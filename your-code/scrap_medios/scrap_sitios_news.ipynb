{
 "cells": [
  {
   "cell_type": "markdown",
   "metadata": {},
   "source": [
    "# Buscador de titulos en medios basado en Web Scraping\n",
    "\n",
    "#### Descripción: A través del web scraping, accedemos a los títulos de los medios publicados en la pantalla principal (home) y así devolver un DataFrame selectivo de acuerdo a los intereses y parametros de búsqueda de una api. \n",
    "\n",
    "#### Objetivos: Generar una app basada en web scraping para aquellos usuarios que no quieran leer noticias contaminados con las publicidades de los medios de comunicación"
   ]
  },
  {
   "cell_type": "markdown",
   "metadata": {},
   "source": [
    "1. Fuente: elsol.com.ar / mdzol.com \n",
    "2. Formato de fuente.\n",
    "3. Autor: Rodolfo Pardo\n",
    "4. Lenguaje utilizado: Python \n",
    "5. Librerías: sys, pandas, requests, bs4"
   ]
  },
  {
   "cell_type": "code",
   "execution_count": 1,
   "metadata": {},
   "outputs": [
    {
     "name": "stdout",
     "output_type": "stream",
     "text": [
      "Requirement already satisfied: bs4 in /usr/local/lib/python3.7/site-packages (0.0.1)\n",
      "Requirement already satisfied: requests in /usr/local/lib/python3.7/site-packages (2.22.0)\n",
      "Requirement already satisfied: pandas in /usr/local/lib/python3.7/site-packages (0.24.2)\n",
      "Requirement already satisfied: lxml in /usr/local/lib/python3.7/site-packages (4.3.4)\n",
      "Requirement already satisfied: html5lib in /usr/local/lib/python3.7/site-packages (1.0.1)\n",
      "Requirement already satisfied: beautifulsoup4 in /usr/local/lib/python3.7/site-packages (from bs4) (4.7.1)\n",
      "Requirement already satisfied: urllib3!=1.25.0,!=1.25.1,<1.26,>=1.21.1 in /usr/local/lib/python3.7/site-packages (from requests) (1.25.3)\n",
      "Requirement already satisfied: chardet<3.1.0,>=3.0.2 in /usr/local/lib/python3.7/site-packages (from requests) (3.0.4)\n",
      "Requirement already satisfied: idna<2.9,>=2.5 in /usr/local/lib/python3.7/site-packages (from requests) (2.8)\n",
      "Requirement already satisfied: certifi>=2017.4.17 in /usr/local/lib/python3.7/site-packages (from requests) (2019.6.16)\n",
      "Requirement already satisfied: numpy>=1.12.0 in /usr/local/lib/python3.7/site-packages (from pandas) (1.16.4)\n",
      "Requirement already satisfied: python-dateutil>=2.5.0 in /usr/local/Cellar/ipython/7.5.0/libexec/vendor/lib/python3.7/site-packages (from pandas) (2.8.0)\n",
      "Requirement already satisfied: pytz>=2011k in /usr/local/lib/python3.7/site-packages (from pandas) (2019.1)\n",
      "Requirement already satisfied: six>=1.9 in /usr/local/Cellar/ipython/7.5.0/libexec/vendor/lib/python3.7/site-packages (from html5lib) (1.12.0)\n",
      "Requirement already satisfied: webencodings in /usr/local/lib/python3.7/site-packages (from html5lib) (0.5.1)\n",
      "Requirement already satisfied: soupsieve>=1.2 in /usr/local/lib/python3.7/site-packages (from beautifulsoup4->bs4) (1.9.2)\n"
     ]
    }
   ],
   "source": [
    "#Importando librerias sys, pandas, time, requests, bs4\n",
    "\n",
    "import sys\n",
    "!{sys.executable} -m pip install bs4 requests pandas lxml html5lib\n",
    "import pandas as pd\n",
    "import requests\n",
    "from bs4 import BeautifulSoup"
   ]
  },
  {
   "cell_type": "code",
   "execution_count": 2,
   "metadata": {},
   "outputs": [
    {
     "name": "stdout",
     "output_type": "stream",
     "text": [
      "Ingrese 1 si quiere leer El Sol o 2 si quiere leer MDZ: 1\n",
      "Ingrese la palabra que desea buscar en los titulos: lunes\n"
     ]
    },
    {
     "data": {
      "text/html": [
       "<div>\n",
       "<style scoped>\n",
       "    .dataframe tbody tr th:only-of-type {\n",
       "        vertical-align: middle;\n",
       "    }\n",
       "\n",
       "    .dataframe tbody tr th {\n",
       "        vertical-align: top;\n",
       "    }\n",
       "\n",
       "    .dataframe thead th {\n",
       "        text-align: right;\n",
       "    }\n",
       "</style>\n",
       "<table border=\"1\" class=\"dataframe\">\n",
       "  <thead>\n",
       "    <tr style=\"text-align: right;\">\n",
       "      <th></th>\n",
       "      <th>titulos</th>\n",
       "    </tr>\n",
       "  </thead>\n",
       "  <tbody>\n",
       "    <tr>\n",
       "      <th>2</th>\n",
       "      <td>A partir del lunes sacarán estas paradas de co...</td>\n",
       "    </tr>\n",
       "  </tbody>\n",
       "</table>\n",
       "</div>"
      ],
      "text/plain": [
       "                                             titulos\n",
       "2  A partir del lunes sacarán estas paradas de co..."
      ]
     },
     "execution_count": 2,
     "metadata": {},
     "output_type": "execute_result"
    }
   ],
   "source": [
    "#URL_TO_DATA pide un requests a la url e identifica el scraping\n",
    "\n",
    "def url_to_data(*args):\n",
    "    diario = requests.get(url_peticion).content\n",
    "    soup = BeautifulSoup(diario, 'html')\n",
    "    titulos = soup.select('h2')\n",
    "    return titulos\n",
    "\n",
    "#Limpia los titulos y luego comienza a buscar según la busqueda ingresada por el usuario \n",
    "\n",
    "def titulos_to_results(*args):\n",
    "    noticias = [element.text for element in tit]\n",
    "    df_news = pd.DataFrame(noticias)\n",
    "    columnas = [\"titulos\"]\n",
    "    df_news.columns = columnas\n",
    "    news = df_news[(df_news['titulos'].str.contains(buscador))]\n",
    "    return news\n",
    "\n",
    "#Pido al usuario la url\n",
    "url_peticion = int(input(\"Ingrese 1 si quiere leer El Sol o 2 si quiere leer MDZ: \"))\n",
    "\n",
    "#Condicion para elegir el diario\n",
    "if url_peticion == 1:\n",
    "    url_peticion = \"https://elsol.com.ar\"\n",
    "else:\n",
    "    url_peticion = \"https://mdzol.com\"\n",
    "    \n",
    "#Guardo el return para utilizarlo en la proxima funcion\n",
    "tit = url_to_data(url_peticion)\n",
    "#Que ingrese la busqueda\n",
    "buscador = input(\"Ingrese la palabra que desea buscar en los titulos: \")    \n",
    "url_to_data(url_peticion)\n",
    "titulos_to_results(tit,buscador)\n",
    "\n"
   ]
  }
 ],
 "metadata": {
  "kernelspec": {
   "display_name": "Python 3",
   "language": "python",
   "name": "python3"
  },
  "language_info": {
   "codemirror_mode": {
    "name": "ipython",
    "version": 3
   },
   "file_extension": ".py",
   "mimetype": "text/x-python",
   "name": "python",
   "nbconvert_exporter": "python",
   "pygments_lexer": "ipython3",
   "version": "3.7.3"
  }
 },
 "nbformat": 4,
 "nbformat_minor": 2
}
