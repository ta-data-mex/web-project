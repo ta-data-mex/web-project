{
 "cells": [
  {
   "cell_type": "markdown",
   "id": "3fe27f8a",
   "metadata": {},
   "source": [
    "# Importar librerías necesarias"
   ]
  },
  {
   "cell_type": "code",
   "execution_count": 1,
   "id": "f315a90b",
   "metadata": {},
   "outputs": [],
   "source": [
    "import time\n",
    "import re\n",
    "import sys\n",
    "import requests\n",
    "from pathlib import Path\n",
    "\n",
    "import numpy as np\n",
    "import pandas as pd\n",
    "\n",
    "from bs4 import BeautifulSoup\n",
    "\n",
    "from selenium import webdriver\n",
    "from selenium.webdriver.common.keys import Keys\n",
    "from selenium.webdriver.common.action_chains import ActionChains"
   ]
  },
  {
   "cell_type": "markdown",
   "id": "e202dd1d",
   "metadata": {},
   "source": [
    "### Función para scrollear en la página"
   ]
  },
  {
   "cell_type": "code",
   "execution_count": 2,
   "id": "65eca34a",
   "metadata": {},
   "outputs": [],
   "source": [
    "def random_keypress_generator():\n",
    "    keys = [Keys.DOWN, Keys.END, Keys.PAGE_UP, Keys.PAGE_DOWN, Keys.UP]\n",
    "    action = np.random.choice(keys, p=[0.5, 0.1, 0.1, 0.1, 0.2])\n",
    "    return action"
   ]
  },
  {
   "cell_type": "markdown",
   "id": "db183fa1",
   "metadata": {},
   "source": [
    "### Función para obtener url y objeto Soup"
   ]
  },
  {
   "cell_type": "code",
   "execution_count": 3,
   "id": "341aa102",
   "metadata": {},
   "outputs": [],
   "source": [
    "def page_bs4(url):\n",
    "    random = np.random.choice\n",
    "    options = webdriver.ChromeOptions()\n",
    "    options.add_argument('--ignore-certificate-errors')\n",
    "    options.add_argument('--incognito')\n",
    "    driver = webdriver.Chrome(r'C:\\Program Files\\ChromeDriver\\chromedriver.exe',\n",
    "                             chrome_options=options)\n",
    "    driver.get(url)\n",
    "    print('Obtaining data from web source. Please stand by.')\n",
    "    print('-----------'*10)\n",
    "    time.sleep(random(5))\n",
    "    for ran in range(random(10)):\n",
    "        ActionChains(driver).send_keys(random_keypress_generator()).perform()\n",
    "        time.sleep(random(5))\n",
    "    page_source = driver.page_source\n",
    "    driver.quit()\n",
    "    print('Data succesfully obtained from web source')\n",
    "    print('-----------'*10)\n",
    "    return page_source"
   ]
  },
  {
   "cell_type": "markdown",
   "id": "00fd93c7",
   "metadata": {},
   "source": [
    "### Sacar datos de objeto Soup"
   ]
  },
  {
   "cell_type": "code",
   "execution_count": 4,
   "id": "c99beb1b",
   "metadata": {},
   "outputs": [],
   "source": [
    "def games_data(page_source):\n",
    "    print(\"Converting source into Bs4 codification data\")\n",
    "    print('-----------'*10)\n",
    "    soup = BeautifulSoup(page_source, 'lxml')\n",
    "    game_title = [title.text for title in soup.select('span.title')]\n",
    "    release_date = [date.text for date in soup.select('div.col.search_released.responsive_secondrow')]\n",
    "    discount = [discount.text.strip() for discount in soup.select('div.col.search_discount.responsive_secondrow')]\n",
    "    price = [price.text.strip() for price in soup.select('div.col.search_price.responsive_secondrow')]\n",
    "    game_link = [link['href'] for link in soup.select('div[data-panel=\"[]\"][id=\"search_resultsRows\"] a[href]')]\n",
    "    print(\"Data into Bs4 done\")\n",
    "    print('-----------'*10)\n",
    "    return game_title, release_date, discount, price, game_link"
   ]
  },
  {
   "cell_type": "markdown",
   "id": "d300b22b",
   "metadata": {},
   "source": [
    "### Obtener DataFrame"
   ]
  },
  {
   "cell_type": "code",
   "execution_count": 5,
   "id": "4414d417",
   "metadata": {},
   "outputs": [],
   "source": [
    "def dataframe(game_title, release_date, discount, price, game_link):\n",
    "    tuples = list(zip(game_title, release_date, discount, price, game_link))\n",
    "    print(\"Making DataFrame of games data\")\n",
    "    df = pd.DataFrame(tuples, columns=[\"Game_title\",\"Release_date\",\"Discount\",\"Price\",\"Link\"])\n",
    "    return df"
   ]
  },
  {
   "cell_type": "code",
   "execution_count": 6,
   "id": "0381a593",
   "metadata": {},
   "outputs": [],
   "source": [
    "### Función principal"
   ]
  },
  {
   "cell_type": "code",
   "execution_count": 7,
   "id": "7f63d068",
   "metadata": {},
   "outputs": [],
   "source": [
    "def web_scraping():\n",
    "    print(\"Obtaining url and starting scraping\")\n",
    "    url = 'https://store.steampowered.com/search/?filter=topsellers'\n",
    "    page_source = page_bs4(url)\n",
    "    game_title, release_date, discount, price, game_link = games_data(page_source)\n",
    "    df = dataframe(game_title, release_date, discount, price, game_link)\n",
    "    return df"
   ]
  },
  {
   "cell_type": "code",
   "execution_count": 8,
   "id": "44b58ade",
   "metadata": {},
   "outputs": [
    {
     "name": "stdout",
     "output_type": "stream",
     "text": [
      "Obtaining url and starting scraping\n"
     ]
    },
    {
     "name": "stderr",
     "output_type": "stream",
     "text": [
      "C:\\Users\\JoseV\\AppData\\Local\\Temp\\ipykernel_7676\\4031858800.py:6: DeprecationWarning: executable_path has been deprecated, please pass in a Service object\n",
      "  driver = webdriver.Chrome(r'C:\\Program Files\\ChromeDriver\\chromedriver.exe',\n",
      "C:\\Users\\JoseV\\AppData\\Local\\Temp\\ipykernel_7676\\4031858800.py:6: DeprecationWarning: use options instead of chrome_options\n",
      "  driver = webdriver.Chrome(r'C:\\Program Files\\ChromeDriver\\chromedriver.exe',\n"
     ]
    },
    {
     "name": "stdout",
     "output_type": "stream",
     "text": [
      "Obtaining data from web source. Please stand by.\n",
      "--------------------------------------------------------------------------------------------------------------\n",
      "Data succesfully obtained from web source\n",
      "--------------------------------------------------------------------------------------------------------------\n",
      "Converting source into Bs4 codification data\n",
      "--------------------------------------------------------------------------------------------------------------\n",
      "Data into Bs4 done\n",
      "--------------------------------------------------------------------------------------------------------------\n",
      "Making DataFrame of games data\n"
     ]
    },
    {
     "data": {
      "text/html": [
       "<div>\n",
       "<style scoped>\n",
       "    .dataframe tbody tr th:only-of-type {\n",
       "        vertical-align: middle;\n",
       "    }\n",
       "\n",
       "    .dataframe tbody tr th {\n",
       "        vertical-align: top;\n",
       "    }\n",
       "\n",
       "    .dataframe thead th {\n",
       "        text-align: right;\n",
       "    }\n",
       "</style>\n",
       "<table border=\"1\" class=\"dataframe\">\n",
       "  <thead>\n",
       "    <tr style=\"text-align: right;\">\n",
       "      <th></th>\n",
       "      <th>Game_title</th>\n",
       "      <th>Release_date</th>\n",
       "      <th>Discount</th>\n",
       "      <th>Price</th>\n",
       "      <th>Link</th>\n",
       "    </tr>\n",
       "  </thead>\n",
       "  <tbody>\n",
       "    <tr>\n",
       "      <th>0</th>\n",
       "      <td>ELDEN RING</td>\n",
       "      <td>24 FEB 2022</td>\n",
       "      <td></td>\n",
       "      <td>Mex$ 1,200.00</td>\n",
       "      <td>https://store.steampowered.com/app/1245620/ELD...</td>\n",
       "    </tr>\n",
       "    <tr>\n",
       "      <th>1</th>\n",
       "      <td>LEGO® Star Wars™: La Saga Skywalker</td>\n",
       "      <td>5 ABR 2022</td>\n",
       "      <td></td>\n",
       "      <td>Mex$ 799.00</td>\n",
       "      <td>https://store.steampowered.com/app/920210/LEGO...</td>\n",
       "    </tr>\n",
       "    <tr>\n",
       "      <th>2</th>\n",
       "      <td>No Man's Sky</td>\n",
       "      <td>12 AGO 2016</td>\n",
       "      <td>-50%</td>\n",
       "      <td>Mex$ 509.99Mex$ 254.99</td>\n",
       "      <td>https://store.steampowered.com/app/275850/No_M...</td>\n",
       "    </tr>\n",
       "    <tr>\n",
       "      <th>3</th>\n",
       "      <td>LEGO® Star Wars™: La Saga Skywalker</td>\n",
       "      <td>5 ABR 2022</td>\n",
       "      <td></td>\n",
       "      <td>Mex$ 799.00</td>\n",
       "      <td>https://store.steampowered.com/app/920210/LEGO...</td>\n",
       "    </tr>\n",
       "    <tr>\n",
       "      <th>4</th>\n",
       "      <td>Squad</td>\n",
       "      <td>23 SEP 2020</td>\n",
       "      <td>-25%</td>\n",
       "      <td>Mex$ 454.99Mex$ 341.24</td>\n",
       "      <td>https://store.steampowered.com/app/393380/Squa...</td>\n",
       "    </tr>\n",
       "    <tr>\n",
       "      <th>...</th>\n",
       "      <td>...</td>\n",
       "      <td>...</td>\n",
       "      <td>...</td>\n",
       "      <td>...</td>\n",
       "      <td>...</td>\n",
       "    </tr>\n",
       "    <tr>\n",
       "      <th>145</th>\n",
       "      <td>Call of Duty®: Modern Warfare® 3</td>\n",
       "      <td>8 NOV 2011</td>\n",
       "      <td>-50%</td>\n",
       "      <td>Mex$ 355.99Mex$ 177.99</td>\n",
       "      <td>https://store.steampowered.com/app/115300/Call...</td>\n",
       "    </tr>\n",
       "    <tr>\n",
       "      <th>146</th>\n",
       "      <td>Destiny 2: Paquete del 30 aniv. de Bungie</td>\n",
       "      <td>7 DIC 2021</td>\n",
       "      <td></td>\n",
       "      <td>Mex$ 399.00</td>\n",
       "      <td>https://store.steampowered.com/app/1656370/Des...</td>\n",
       "    </tr>\n",
       "    <tr>\n",
       "      <th>147</th>\n",
       "      <td>Cat Cafe Manager</td>\n",
       "      <td>14 ABR 2022</td>\n",
       "      <td>-20%</td>\n",
       "      <td>Mex$ 185.99Mex$ 148.79</td>\n",
       "      <td>https://store.steampowered.com/app/1354830/Cat...</td>\n",
       "    </tr>\n",
       "    <tr>\n",
       "      <th>148</th>\n",
       "      <td>Warhammer 40,000: Chaos Gate - Daemonhunters</td>\n",
       "      <td>5 MAY 2022</td>\n",
       "      <td></td>\n",
       "      <td>Mex$ 539.99</td>\n",
       "      <td>https://store.steampowered.com/app/1611910/War...</td>\n",
       "    </tr>\n",
       "    <tr>\n",
       "      <th>149</th>\n",
       "      <td>Remnant: From the Ashes - Complete Edition</td>\n",
       "      <td></td>\n",
       "      <td>-64%</td>\n",
       "      <td>Mex$ 595.97Mex$ 216.77</td>\n",
       "      <td>https://store.steampowered.com/bundle/15367/Re...</td>\n",
       "    </tr>\n",
       "  </tbody>\n",
       "</table>\n",
       "<p>150 rows × 5 columns</p>\n",
       "</div>"
      ],
      "text/plain": [
       "                                       Game_title Release_date Discount  \\\n",
       "0                                      ELDEN RING  24 FEB 2022            \n",
       "1             LEGO® Star Wars™: La Saga Skywalker   5 ABR 2022            \n",
       "2                                    No Man's Sky  12 AGO 2016     -50%   \n",
       "3             LEGO® Star Wars™: La Saga Skywalker   5 ABR 2022            \n",
       "4                                           Squad  23 SEP 2020     -25%   \n",
       "..                                            ...          ...      ...   \n",
       "145              Call of Duty®: Modern Warfare® 3   8 NOV 2011     -50%   \n",
       "146     Destiny 2: Paquete del 30 aniv. de Bungie   7 DIC 2021            \n",
       "147                              Cat Cafe Manager  14 ABR 2022     -20%   \n",
       "148  Warhammer 40,000: Chaos Gate - Daemonhunters   5 MAY 2022            \n",
       "149    Remnant: From the Ashes - Complete Edition                  -64%   \n",
       "\n",
       "                      Price                                               Link  \n",
       "0             Mex$ 1,200.00  https://store.steampowered.com/app/1245620/ELD...  \n",
       "1               Mex$ 799.00  https://store.steampowered.com/app/920210/LEGO...  \n",
       "2    Mex$ 509.99Mex$ 254.99  https://store.steampowered.com/app/275850/No_M...  \n",
       "3               Mex$ 799.00  https://store.steampowered.com/app/920210/LEGO...  \n",
       "4    Mex$ 454.99Mex$ 341.24  https://store.steampowered.com/app/393380/Squa...  \n",
       "..                      ...                                                ...  \n",
       "145  Mex$ 355.99Mex$ 177.99  https://store.steampowered.com/app/115300/Call...  \n",
       "146             Mex$ 399.00  https://store.steampowered.com/app/1656370/Des...  \n",
       "147  Mex$ 185.99Mex$ 148.79  https://store.steampowered.com/app/1354830/Cat...  \n",
       "148             Mex$ 539.99  https://store.steampowered.com/app/1611910/War...  \n",
       "149  Mex$ 595.97Mex$ 216.77  https://store.steampowered.com/bundle/15367/Re...  \n",
       "\n",
       "[150 rows x 5 columns]"
      ]
     },
     "execution_count": 8,
     "metadata": {},
     "output_type": "execute_result"
    }
   ],
   "source": [
    "web_scraping()"
   ]
  },
  {
   "cell_type": "code",
   "execution_count": null,
   "id": "9b05d4e5",
   "metadata": {},
   "outputs": [],
   "source": []
  }
 ],
 "metadata": {
  "kernelspec": {
   "display_name": "Python 3 (ipykernel)",
   "language": "python",
   "name": "python3"
  },
  "language_info": {
   "codemirror_mode": {
    "name": "ipython",
    "version": 3
   },
   "file_extension": ".py",
   "mimetype": "text/x-python",
   "name": "python",
   "nbconvert_exporter": "python",
   "pygments_lexer": "ipython3",
   "version": "3.10.3"
  }
 },
 "nbformat": 4,
 "nbformat_minor": 5
}
