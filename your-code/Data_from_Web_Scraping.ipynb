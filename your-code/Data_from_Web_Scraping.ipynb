{
 "cells": [
  {
   "cell_type": "markdown",
   "metadata": {
    "toc-hr-collapsed": false
   },
   "source": [
    "# **Data From Web Scraping**\n",
    "\n",
    "The objective will be scraping the most information for each film in different top 100 lists from [Imdb](https://www.imdb.com/?ref_=nv_home). For example, in [The Top 100 Greatest Movies of all Time](https://www.imdb.com/list/ls055592025/) there are listed 100 films, from here it will be necessary to to access each film web page, once there, it can be found all the information about the film.\n",
    "\n",
    "- The top lists selected for this exercise are:\n",
    "\n",
    "    1. [The Top 100 Greatest Movies of all Time](https://www.imdb.com/list/ls055592025/)\n",
    "    2. [Top 100 Horror Films](https://www.imdb.com/list/ls000007562/)\n",
    "    3. [100 Best Sci-Fi movies](https://www.imdb.com/list/ls009668082/)\n",
    "    4. [Top 100 Best Action Movies Of All Time](https://www.imdb.com/list/ls063897780/)\n",
    "    5. [TOP 100 BEST DRAMA MOVIES OF ALL TIME](https://www.imdb.com/list/ls069376839/)\n",
    "    6. [Top 100 Best Foreign Films](https://www.imdb.com/list/ls062615147/)\n",
    "    7. [100 Best Movies of this Decade (2010-2019)](https://www.imdb.com/list/ls062615147/)\n",
    "    8. [2000s Top 100 Movies](https://www.imdb.com/list/ls002065120/)\n",
    "    \n",
    "From a quick view of the page of a [film](https://www.imdb.com/title/tt0078748/?ref_=ttls_li_tt), the information selected to be obatined is listed below:\n",
    "\n",
    "1. **`Top`** : Top list in which the film appears (str)\n",
    "2. **`Ranking`** : Rank in which he movie appears (int)\n",
    "3. **`Title`** : Title of the film (str)\n",
    "4. **`Classification`**: Classificaion of the film (str)\n",
    "5. **`Duration_min`**: Length of the film in minutes (int)\n",
    "6. **`Genre(s)`**: Genre(s) of the film (str)\n",
    "7. **`Imdb_Rating`**: Imdb of the film (float)\n",
    "8. **`No_Ratings`**: Number of ratings (int)\n",
    "9. **`Release_Date`**: Release date of the film (datetime)\n",
    "10. **`Summary`**: Summary of the film (str)\n",
    "11. **`Storyline`**: Storyline of the film (str)\n",
    "12. **`Metascore`**: Metacritic score of the film (int)\n",
    "13. **`User_reviews`**: Number of user reviews (int)\n",
    "14. **`Critic_reviews`**: Number of critic reviews (int)\n",
    "15. **`Popularity`**: Popularity rank (int)\n",
    "16. **`Cast`**: Main Cast of the film (dict)\n",
    "17. **`Taglines`**: Taglines of the film (str)\n",
    "18. **`Country`**: Country of Origin (str)\n",
    "19. **`Budget`**: Budget of the film (str)\n",
    "21. **`Cumulative_Worldwide_Gross`**: Grossing revenue of the film (str)\n",
    "22. **`Trivia`**: Trivia of the film (str)\n",
    "23. **`Goof`**: A goof find in the movie (str)\n",
    "\n",
    "Namely, the final dataframe (an the csv file) will have the above as columns."
   ]
  },
  {
   "cell_type": "markdown",
   "metadata": {},
   "source": [
    "First, the necessary libraries are imported:"
   ]
  },
  {
   "cell_type": "code",
   "execution_count": null,
   "metadata": {},
   "outputs": [],
   "source": [
    "import requests\n",
    "import pandas as pd\n",
    "import re\n",
    "from bs4 import BeautifulSoup\n",
    "from IPython.display import clear_output\n",
    "import matplotlib.pyplot as plt\n",
    "\n",
    "%matplotlib inline"
   ]
  },
  {
   "cell_type": "code",
   "execution_count": 2,
   "metadata": {},
   "outputs": [],
   "source": [
    "import matplotlib.style as style\n",
    "style.use('seaborn-darkgrid')"
   ]
  },
  {
   "cell_type": "code",
   "execution_count": 3,
   "metadata": {},
   "outputs": [],
   "source": [
    "import urllib3\n",
    "urllib3.disable_warnings(urllib3.exceptions.InsecureRequestWarning)"
   ]
  },
  {
   "cell_type": "markdown",
   "metadata": {},
   "source": [
    "Next is to create two functions, `get_top_films` and `get_movie_info`. \n",
    "\n",
    "- **`get_top_films`**: this function will take one argument, the top list link; with this the web page will be scrapped in order to obtain the rank, title and the film web page reference. The result will be a list of tuples, one tuple for each movie listed.\n",
    "- **`get_movie_info`**: this function wil take two arguments, the base url and the movie info. The base url is a common url template shared by all movies web pages, the diference lies in the film reference number, which will be passed with a string concatenation. The movie info will be received by the function in the form of a tuple, which will contain in order the top list name in which the movie appears, the rank of the movie in the top list and the title of the movie. The result will be a list containing all the information of the movie required.\n"
   ]
  },
  {
   "cell_type": "code",
   "execution_count": 8,
   "metadata": {},
   "outputs": [],
   "source": [
    "def get_top_films(top):\n",
    "    # Scraping the films with rank, title and web reference\n",
    "    parsed_top = BeautifulSoup(requests.get(tops_imdb[top], verify = False).content)\n",
    "    return [(top, rank, title.next_sibling.next_sibling.text, title.next_sibling.next_sibling['href']) \n",
    "            for rank,title in enumerate(parsed_top.find_all('span',{'class':'lister-item-index unbold text-primary'}), 1)]"
   ]
  },
  {
   "cell_type": "code",
   "execution_count": 261,
   "metadata": {},
   "outputs": [],
   "source": [
    "def get_movie_info(base, title):\n",
    "    # Print progress\n",
    "    clear_output()\n",
    "    print(f'{title[0]} - {title[2]} - {title[1]}')\n",
    "    \n",
    "    # Technical movie data base url\n",
    "    tech = 'https://www.imdb.com/%s/technical?ref_=tt_dt_spec'\n",
    "    \n",
    "    # Parsing the webpage of the given title\n",
    "    parsed_title = BeautifulSoup(requests.get(base % title[3][1:-1], verify = False).content)\n",
    "    \n",
    "    # Each data requires a specific search in the parsed webpage\n",
    "    top = title[0]\n",
    "    ranking = title[1]\n",
    "    title_film = parsed_title.find('div', class_='originalTitle').text.split(' (')[0] if parsed_title.find('div', class_='originalTitle') else title[2]\n",
    "    classification = parsed_title.find_all('div', class_='subtext')[0].text.split('\\n')[1].replace(' ','')\n",
    "    length = BeautifulSoup(requests.get(tech % gm[26][3][1:-1], verify = False).content).select_one('.label').next_sibling.next_sibling.text.split('\\n ')[1].lstrip().rstrip()\n",
    "    genre = ', '.join(set([i.text.replace(' ','') for i in parsed_title.select(\"a[href*=genres]\")]))\n",
    "    imdb_rating = float(parsed_title.find('div', class_='ratingValue').text.split('/')[0][1:])\n",
    "    ratings = int(parsed_title.find('span', class_='small').text.replace(',',''))\n",
    "    release = pd.to_datetime(''.join([i.next_sibling for i in parsed_title.find_all('h4', class_='inline') if 'Release' in i.text]).split(' (')[0])\n",
    "    summary = parsed_title.find('div', class_='summary_text').text.replace('\\n','').rstrip().lstrip()\n",
    "    storyline = parsed_title.find('div', class_='inline canwrap').text.split('\\n')[2].lstrip()\n",
    "    metascore = int(parsed_title.select_one('.metacriticScore').text.replace('\\n','')) if parsed_title.select_one('.metacriticScore') else ''\n",
    "    u_reviews = int(re.findall(r'\\d+(?:,\\d+)?', ''.join([i.text.replace(',','') for i in parsed_title.find_all('span', class_='subText')]))[0]) if len(parsed_title.find_all('span', class_='subText'))>=1 else ''\n",
    "    c_reviews = int(re.findall(r'\\d+(?:,\\d+)?', ''.join([i.text.replace(',','') for i in parsed_title.find_all('span', class_='subText')]))[1]) if len(parsed_title.find_all('span', class_='subText'))!=1 else ''\n",
    "    popularity = int(parsed_title.find_all('span', class_='subText')[-1].text.replace('\\n','').replace(',','').lstrip().split()[0])\n",
    "    cast = {pair[0]:('' if len(pair)==1 else pair[1].split('2 e')[0].replace('/','').rstrip().replace('\\xa0','')) for pair in [i.text.replace('\\n','').replace('  ','').split('...') for i in parsed_title.find_all('tr')[1:-2][0::2]]}\n",
    "    tagline = parsed_title.find_all('h4', class_='inline')[4].next_sibling[1:]\n",
    "    country = ' / '.join([c.text for c in parsed_title.find_all('div', class_='txt-block')[4].find_all('a')])\n",
    "    budget = ''.join([i.next_sibling for i in parsed_title.find_all('h4', class_='inline') if 'Budget' in i.text]).replace('\\n','').replace(' ','')\n",
    "    cwg = ''.join([i.next_sibling for i in parsed_title.find_all('h4', class_='inline') if 'Cumulative' in i.text]).replace('\\n','').replace(' ','')\n",
    "    trivia = parsed_title.find('div', {'id':'trivia'}).text.split('    ')[1] if parsed_title.find('div', {'id':'trivia'}) else ''\n",
    "    goof = parsed_title.find('div', {'id':'goofs'}).text.split('\\n')[2].split('   ')[0] if parsed_title.find('div', {'id':'goofs'}) else ''\n",
    "    \n",
    "    return [top,ranking, title_film, classification, length,genre, imdb_rating, metascore, ratings, release, summary, storyline, u_reviews, c_reviews, popularity, cast,tagline, country, budget, cwg, trivia, goof]"
   ]
  },
  {
   "cell_type": "markdown",
   "metadata": {},
   "source": [
    "The links of the top lists are stored in the `tops_imdb` dictionary."
   ]
  },
  {
   "cell_type": "code",
   "execution_count": 207,
   "metadata": {},
   "outputs": [],
   "source": [
    "tops_imdb = {'The Top 100 Greatest Movies of all Time':'https://www.imdb.com/list/ls055592025/',\n",
    "             'Top 100 Horror Films':'https://www.imdb.com/list/ls000007562/',\n",
    "             '100 Best Sci-Fi movies':'https://www.imdb.com/list/ls009668082/',\n",
    "             'Top 100 Best Action Movies Of All Time':'https://www.imdb.com/list/ls063897780/',\n",
    "             'TOP 100 BEST DRAMA MOVIES OF ALL TIME':'https://www.imdb.com/list/ls069376839/',\n",
    "             'Top 100 Best Foreign Films':'https://www.imdb.com/list/ls062615147/',\n",
    "             '100 Best Movies of this Decade (2010-2019)':'https://www.imdb.com/list/ls062615147/',\n",
    "             '2000s Top 100 Movies':'https://www.imdb.com/list/ls002065120/'}"
   ]
  },
  {
   "cell_type": "markdown",
   "metadata": {},
   "source": [
    "The `base_url` string varible will contain the url template."
   ]
  },
  {
   "cell_type": "code",
   "execution_count": 208,
   "metadata": {},
   "outputs": [],
   "source": [
    "base_url = 'https://www.imdb.com/%s/?ref_=ttls_li_tt'"
   ]
  },
  {
   "cell_type": "markdown",
   "metadata": {},
   "source": [
    "Having crated all the variables and functions before, only rest to call for them in order to scrape all the 800 web pages. This is made in the line of code below:"
   ]
  },
  {
   "cell_type": "code",
   "execution_count": 262,
   "metadata": {},
   "outputs": [
    {
     "name": "stdout",
     "output_type": "stream",
     "text": [
      "2000s Top 100 Movies - El desesperar de los muertos - 100\n"
     ]
    }
   ],
   "source": [
    "movies_info = [get_movie_info(base_url, film) for film in [title for top in [get_top_films(key) for key in list(tops_imdb.keys())] for title in top]]"
   ]
  },
  {
   "cell_type": "markdown",
   "metadata": {},
   "source": [
    "The names for the dataframe are defined in the `names` list."
   ]
  },
  {
   "cell_type": "code",
   "execution_count": 265,
   "metadata": {},
   "outputs": [],
   "source": [
    "names = ['Top', 'Ranking', 'Title', 'Classification', 'Length', 'Genre', 'Imdb_Rating', 'Metascore', 'No_Ratings', 'Release_Date', 'Summary', 'Storyline', 'User_reviews', \n",
    "         'Critic_reviews', 'Popularity', 'Cast', 'Taglines', 'Country', 'Budget', 'Cumulative_Worldwide_Gross', 'Trivia', 'Goof']"
   ]
  },
  {
   "cell_type": "markdown",
   "metadata": {},
   "source": [
    "The `movies_df` dataframe is created using the `from_records` method, wich is more suitable for the data that is in the form of a list of lists."
   ]
  },
  {
   "cell_type": "code",
   "execution_count": 268,
   "metadata": {},
   "outputs": [],
   "source": [
    "movies_df = pd.DataFrame.from_records(movies_info, columns = names)"
   ]
  },
  {
   "cell_type": "markdown",
   "metadata": {},
   "source": [
    "Finally, all the information in `movies_df` is saved as a CSV file calling for the respective method of the dataframe."
   ]
  },
  {
   "cell_type": "code",
   "execution_count": 287,
   "metadata": {},
   "outputs": [],
   "source": [
    "movies_df.to_csv('Data_from_Web_Scraping.csv', index = False)"
   ]
  }
 ],
 "metadata": {
  "kernelspec": {
   "display_name": "Python 3",
   "language": "python",
   "name": "python3"
  },
  "language_info": {
   "codemirror_mode": {
    "name": "ipython",
    "version": 3
   },
   "file_extension": ".py",
   "mimetype": "text/x-python",
   "name": "python",
   "nbconvert_exporter": "python",
   "pygments_lexer": "ipython3",
   "version": "3.7.3"
  }
 },
 "nbformat": 4,
 "nbformat_minor": 2
}
