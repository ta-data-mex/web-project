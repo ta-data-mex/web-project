{
 "cells": [
  {
   "cell_type": "code",
   "execution_count": 1,
   "id": "1e21fb03",
   "metadata": {},
   "outputs": [],
   "source": [
    "import requests\n",
    "import time\n",
    "\n",
    "import pandas as pd"
   ]
  },
  {
   "cell_type": "markdown",
   "id": "5cb82d4d",
   "metadata": {},
   "source": [
    "### Petición para obtener ID de la película"
   ]
  },
  {
   "cell_type": "code",
   "execution_count": 2,
   "id": "9c799c6e",
   "metadata": {
    "collapsed": true
   },
   "outputs": [
    {
     "name": "stdout",
     "output_type": "stream",
     "text": [
      "{\"@meta\":{\"operation\":\"Search\",\"requestId\":\"e28f0f01-2fd7-4514-8e25-a9f4f4b12d91\",\"serviceTimeMs\":50.884487},\"@type\":\"imdb.api.find.response\",\"query\":\"lord of the rings\",\"results\":[{\"id\":\"/title/tt0120737/\",\"image\":{\"height\":2936,\"id\":\"/title/tt0120737/images/rm3592958976\",\"url\":\"https://m.media-amazon.com/images/M/MV5BN2EyZjM3NzUtNWUzMi00MTgxLWI0NTctMzY4M2VlOTdjZWRiXkEyXkFqcGdeQXVyNDUzOTQ5MjY@._V1_.jpg\",\"width\":1978},\"runningTimeInMinutes\":178,\"title\":\"The Lord of the Rings: The Fellowship of the Ring\",\"titleType\":\"movie\",\"year\":2001,\"principals\":[{\"disambiguation\":\"I\",\"id\":\"/name/nm0000704/\",\"legacyNameText\":\"Wood, Elijah (I)\",\"name\":\"Elijah Wood\",\"billing\":32,\"category\":\"actor\",\"characters\":[\"Frodo\"],\"roles\":[{\"character\":\"Frodo\",\"characterId\":\"/character/ch0000139/\"}]},{\"id\":\"/name/nm0005212/\",\"legacyNameText\":\"McKellen, Ian\",\"name\":\"Ian McKellen\",\"billing\":17,\"category\":\"actor\",\"characters\":[\"Gandalf\"],\"roles\":[{\"character\":\"Gandalf\",\"characterId\":\"/character/ch0000143/\"}]},{\"id\":\"/name/nm0089217/\",\"legacyNameText\":\"Bloom, Orlando\",\"name\":\"Orlando Bloom\",\"billing\":7,\"category\":\"actor\",\"characters\":[\"Legolas\"],\"roles\":[{\"character\":\"Legolas\",\"characterId\":\"/character/ch0000137/\"}]}]},{\"id\":\"/title/tt7631058/\",\"image\":{\"height\":994,\"id\":\"/title/tt7631058/images/rm128282368\",\"url\":\"https://m.media-amazon.com/images/M/MV5BMjM0ZDM1YzQtMjlmYy00YThlLTk2MmItNTM3NWRiZmUwYWViXkEyXkFqcGdeQXVyNzg5MzIyOA@@._V1_.jpg\",\"width\":994},\"nextEpisode\":\"/title/tt9788618/\",\"numberOfEpisodes\":9,\"seriesStartYear\":2022,\"title\":\"The Lord of the Rings\",\"titleType\":\"tvSeries\",\"year\":2022,\"principals\":[{\"id\":\"/name/nm0611932/\",\"legacyNameText\":\"Mullan, Peter\",\"name\":\"Peter Mullan\",\"category\":\"actor\",\"endYear\":2022,\"episodeCount\":8,\"startYear\":2022},{\"disambiguation\":\"I\",\"id\":\"/name/nm0907548/\",\"legacyNameText\":\"Walker, Benjamin (I)\",\"name\":\"Benjamin Walker\",\"category\":\"actor\",\"endYear\":2022,\"episodeCount\":8,\"startYear\":2022},{\"id\":\"/name/nm1870963/\",\"legacyNameText\":\"Addai-Robinson, Cynthia\",\"name\":\"Cynthia Addai-Robinson\",\"category\":\"actress\",\"endYear\":2022,\"episodeCount\":8,\"startYear\":2022}]},{\"id\":\"/title/tt0154789/\",\"image\":{\"height\":1001,\"id\":\"/title/tt0154789/images/rm489558784\",\"url\":\"https://m.media-amazon.com/images/M/MV5BZDFiZDUwYmEtOGIwYS00ZjNhLThkNmMtNjBlMDJlZmRlMDI2XkEyXkFqcGdeQXVyNjExODE1MDc@._V1_.jpg\",\"width\":800},\"runningTimeInMinutes\":235,\"title\":\"Lord of the Rings\",\"titleType\":\"videoGame\",\"year\":1990,\"principals\":[{\"id\":\"/name/nm0235960/\",\"legacyNameText\":\"Downes, Robin Atkin\",\"name\":\"Robin Atkin Downes\",\"attr\":[\"voice\"],\"category\":\"actor\",\"characters\":[\"Legolas\"],\"roles\":[{\"character\":\"Legolas\",\"characterId\":\"/character/ch0000137/\"}]},{\"id\":\"/name/nm11156037/\",\"legacyNameText\":\"WestSaid\",\"name\":\"WestSaid\",\"category\":\"actor\",\"characters\":[\"MC Hobbit\"],\"roles\":[{\"character\":\"MC Hobbit\"}]}]},{\"id\":\"/name/nm2118899/\",\"legacyNameText\":\"van Gelder, Yuri\",\"name\":\"Yuri van Gelder\",\"knownFor\":[{\"cast\":[{\"billing\":8,\"category\":\"actor\",\"characters\":[\"Barabbas\"],\"roles\":[{\"character\":\"Barabbas\"}]}],\"summary\":{\"category\":\"actor\",\"characters\":[\"Barabbas\"],\"displayYear\":\"2017\"},\"id\":\"/title/tt6779658/\",\"title\":\"The Passion\",\"titleType\":\"tvMovie\",\"year\":2017},{\"cast\":[{\"category\":\"self\",\"characters\":[\"Self\"],\"endYear\":2011,\"episodeCount\":1,\"roles\":[{\"character\":\"Self\"}],\"startYear\":2011}],\"summary\":{\"category\":\"self\",\"characters\":[\"Self\"],\"displayYear\":\"2011\"},\"id\":\"/title/tt2121576/\",\"title\":\"Pau!l\",\"titleType\":\"tvSeries\",\"year\":2011},{\"cast\":[{\"category\":\"self\",\"characters\":[\"Self\"],\"endYear\":2012,\"episodeCount\":6,\"roles\":[{\"character\":\"Self\"}],\"startYear\":2012}],\"summary\":{\"category\":\"self\",\"characters\":[\"Self\"],\"displayYear\":\"2012\"},\"id\":\"/title/tt1112798/\",\"title\":\"Ranking the Stars\",\"titleType\":\"tvSeries\",\"year\":2006},{\"cast\":[{\"category\":\"self\",\"characters\":[\"Self\"],\"endYear\":2010,\"episodeCount\":1,\"roles\":[{\"character\":\"Self\"}],\"startYear\":2010}],\"summary\":{\"category\":\"self\",\"characters\":[\"Self\"],\"displayYear\":\"2010\"},\"id\":\"/title/tt1774086/\",\"title\":\"Pownews\",\"titleType\":\"tvSeries\",\"year\":2010}]},{\"id\":\"/title/tt0331560/\",\"image\":{\"height\":500,\"id\":\"/title/tt0331560/images/rm3481378048\",\"url\":\"https://m.media-amazon.com/images/M/MV5BMTk3ODI5Nzk4Nl5BMl5BanBnXkFtZTcwMDE5MTcyMQ@@._V1_.jpg\",\"width\":386},\"runningTimeInMinutes\":3,\"title\":\"Lord of the Piercing\",\"titleType\":\"tvShort\",\"year\":2002,\"principals\":[{\"disambiguation\":\"I\",\"id\":\"/name/nm0085312/\",\"legacyNameText\":\"Black, Jack (I)\",\"name\":\"Jack Black\",\"billing\":1,\"category\":\"actor\",\"characters\":[\"Jack the Elf\"],\"roles\":[{\"character\":\"Jack the Elf\"}]},{\"id\":\"/name/nm0001264/\",\"legacyNameText\":\"Gellar, Sarah Michelle\",\"name\":\"Sarah Michelle Gellar\",\"billing\":2,\"category\":\"actress\",\"characters\":[\"Arwen\"],\"roles\":[{\"character\":\"Arwen\",\"characterId\":\"/character/ch0000141/\"}]},{\"disambiguation\":\"I\",\"id\":\"/name/nm0000293/\",\"legacyNameText\":\"Bean, Sean (I)\",\"name\":\"Sean Bean\",\"attr\":[\"archiveFootage\"],\"category\":\"archive_footage\",\"characters\":[\"Boromir\"],\"roles\":[{\"character\":\"Boromir\",\"characterId\":\"/character/ch0000140/\"}]}]},{\"id\":\"/title/tt6482606/\",\"image\":{\"height\":2591,\"id\":\"/title/tt6482606/images/rm124072704\",\"url\":\"https://m.media-amazon.com/images/M/MV5BZTAxYzViYzUtZTU2My00MTUyLWJhMjAtYTE1NzMyMDc1MWRjXkEyXkFqcGdeQXVyNDc3Mzc3NTM@._V1_.jpg\",\"width\":1758},\"runningTimeInMinutes\":10,\"title\":\"Lord of the Rings (by Spring)\",\"titleType\":\"short\",\"year\":2017,\"principals\":[{\"id\":\"/name/nm8746661/\",\"legacyNameText\":\"Forrest, Alyssa\",\"name\":\"Alyssa Forrest\",\"billing\":1,\"category\":\"actress\",\"characters\":[\"Freida\"],\"roles\":[{\"character\":\"Freida\"}]},{\"id\":\"/name/nm8746662/\",\"legacyNameText\":\"Dunn, Savannah\",\"name\":\"Savannah Dunn\",\"billing\":2,\"category\":\"actress\",\"characters\":[\"Samantha\"],\"roles\":[{\"character\":\"Samantha\"}]},{\"id\":\"/name/nm8746666/\",\"legacyNameText\":\"Estes, Hunter\",\"name\":\"Hunter Estes\",\"billing\":3,\"category\":\"actor\",\"characters\":[\"Gilbert\"],\"roles\":[{\"character\":\"Gilbert\"}]}]},{\"id\":\"/title/tt0974590/\",\"image\":{\"height\":400,\"id\":\"/title/tt0974590/images/rm986026752\",\"url\":\"https://m.media-amazon.com/images/M/MV5BMTIxMDE5NjMzMV5BMl5BanBnXkFtZTcwMTg5MzU0MQ@@._V1_.jpg\",\"width\":400},\"title\":\"The Lord of the Rings Online\",\"titleType\":\"videoGame\",\"year\":2007,\"principals\":[{\"disambiguation\":\"I\",\"id\":\"/name/nm0999472/\",\"legacyNameText\":\"Brandon, Alexander (I)\",\"name\":\"Alexander Brandon\",\"attr\":[\"voice\"],\"category\":\"actor\"},{\"disambiguation\":\"I\",\"id\":\"/name/nm0153768/\",\"legacyNameText\":\"Chase, Harry (I)\",\"name\":\"Harry Chase\",\"attr\":[\"voice\"],\"category\":\"actor\",\"characters\":[\"Gandalf\",\"Radagast\"],\"roles\":[{\"character\":\"Gandalf\",\"characterId\":\"/character/ch0000143/\"},{\"character\":\"Radagast\",\"characterId\":\"/character/ch0226423/\"}]},{\"id\":\"/name/nm0249283/\",\"legacyNameText\":\"Edgerly, Chris\",\"name\":\"Chris Edgerly\",\"attr\":[\"voice\"],\"category\":\"actor\",\"characters\":[\"Aragorn\"],\"roles\":[{\"character\":\"Aragorn\",\"characterId\":\"/character/ch0000135/\"}]}]},{\"id\":\"/title/tt8306578/\",\"nextEpisode\":\"/title/tt8306598/\",\"numberOfEpisodes\":1,\"seriesEndYear\":2014,\"seriesStartYear\":2014,\"title\":\"Lord of the Rings 1x01\",\"titleType\":\"tvSeries\",\"year\":2014},{\"id\":\"/title/tt13119172/\",\"image\":{\"height\":720,\"id\":\"/title/tt13119172/images/rm2822153729\",\"url\":\"https://m.media-amazon.com/images/M/MV5BOTlhZGI4MDItMTAxOC00ZDNlLWJmNmItYjU2YmE1M2UxNmYyXkEyXkFqcGdeQXVyMTIzNjk1NjM1._V1_.jpg\",\"width\":1258},\"title\":\"Lord of the Rings Re-enacted by Ponies\",\"titleType\":\"video\",\"year\":2012,\"principals\":[{\"id\":\"/name/nm2299231/\",\"legacyNameText\":\"Buckland, Kira\",\"name\":\"Kira Buckland\",\"attr\":[\"voice\"],\"billing\":1,\"category\":\"actress\",\"characters\":[\"Applegorn\",\"Celestiadalf\",\"Elrond\"],\"roles\":[{\"character\":\"Applegorn\"},{\"character\":\"Celestiadalf\"},{\"character\":\"Elrond\"}]},{\"id\":\"/name/nm11910100/\",\"legacyNameText\":\"Faith, Bree\",\"name\":\"Bree Faith\",\"attr\":[\"voice\"],\"billing\":2,\"category\":\"actress\",\"characters\":[\"Pinkamena Smeagul-Pie\",\"Sam\",\"Appleloom\"],\"roles\":[{\"character\":\"Pinkamena Smeagul-Pie\"},{\"character\":\"Sam\"},{\"character\":\"Appleloom\"}]},{\"id\":\"/name/nm11910101/\",\"legacyNameText\":\"Berquist, Rhianna\",\"name\":\"Rhianna Berquist\",\"attr\":[\"voice\"],\"billing\":3,\"category\":\"actress\",\"characters\":[\"Dodo Baggins\"],\"roles\":[{\"character\":\"Dodo Baggins\"}]}]},{\"id\":\"/title/tt0077869/\",\"image\":{\"height\":1500,\"id\":\"/title/tt0077869/images/rm3545382656\",\"url\":\"https://m.media-amazon.com/images/M/MV5BOGMyNWJhZmYtNGQxYi00Y2ZjLWJmNjktNTgzZWJjOTg4YjM3L2ltYWdlXkEyXkFqcGdeQXVyNTAyODkwOQ@@._V1_.jpg\",\"width\":979},\"runningTimeInMinutes\":132,\"title\":\"The Lord of the Rings\",\"titleType\":\"movie\",\"year\":1978,\"principals\":[{\"id\":\"/name/nm0345295/\",\"legacyNameText\":\"Guard, Christopher\",\"name\":\"Christopher Guard\",\"attr\":[\"voice\"],\"billing\":1,\"category\":\"actor\",\"characters\":[\"Frodo\"],\"roles\":[{\"character\":\"Frodo\",\"characterId\":\"/character/ch0000139/\"}]},{\"disambiguation\":\"I\",\"id\":\"/name/nm0820109/\",\"legacyNameText\":\"Squire, William (I)\",\"name\":\"William Squire\",\"attr\":[\"voice\"],\"billing\":2,\"category\":\"actor\",\"characters\":[\"Gandalf\"],\"roles\":[{\"character\":\"Gandalf\",\"characterId\":\"/character/ch0000143/\"}]},{\"disambiguation\":\"I\",\"id\":\"/name/nm0774578/\",\"legacyNameText\":\"Scholes, Michael (I)\",\"name\":\"Michael Scholes\",\"attr\":[\"voice\"],\"billing\":3,\"category\":\"actor\",\"characters\":[\"Sam\"],\"roles\":[{\"character\":\"Sam\",\"characterId\":\"/character/ch0035497/\"}]}]},{\"id\":\"/title/tt0167260/\",\"image\":{\"height\":1185,\"id\":\"/title/tt0167260/images/rm584928512\",\"url\":\"https://m.media-amazon.com/images/M/MV5BNzA5ZDNlZWMtM2NhNS00NDJjLTk4NDItYTRmY2EwMWZlMTY3XkEyXkFqcGdeQXVyNzkwMjQ5NzM@._V1_.jpg\",\"width\":800},\"runningTimeInMinutes\":201,\"title\":\"The Lord of the Rings: The Return of the King\",\"titleType\":\"movie\",\"year\":2003,\"principals\":[{\"disambiguation\":\"I\",\"id\":\"/name/nm0000704/\",\"legacyNameText\":\"Wood, Elijah (I)\",\"name\":\"Elijah Wood\",\"billing\":43,\"category\":\"actor\",\"characters\":[\"Frodo\"],\"roles\":[{\"character\":\"Frodo\",\"characterId\":\"/character/ch0000139/\"}]},{\"id\":\"/name/nm0001557/\",\"legacyNameText\":\"Mortensen, Viggo\",\"name\":\"Viggo Mortensen\",\"billing\":25,\"category\":\"actor\",\"characters\":[\"Aragorn\"],\"roles\":[{\"character\":\"Aragorn\",\"characterId\":\"/character/ch0000135/\"}]},{\"id\":\"/name/nm0005212/\",\"legacyNameText\":\"McKellen, Ian\",\"name\":\"Ian McKellen\",\"billing\":20,\"category\":\"actor\",\"characters\":[\"Gandalf\"],\"roles\":[{\"character\":\"Gandalf\",\"characterId\":\"/character/ch0000143/\"}]}]},{\"id\":\"/title/tt0167261/\",\"image\":{\"height\":1500,\"id\":\"/title/tt0167261/images/rm306845440\",\"url\":\"https://m.media-amazon.com/images/M/MV5BZGMxZTdjZmYtMmE2Ni00ZTdkLWI5NTgtNjlmMjBiNzU2MmI5XkEyXkFqcGdeQXVyNjU0OTQ0OTY@._V1_.jpg\",\"width\":964},\"runningTimeInMinutes\":179,\"title\":\"The Lord of the Rings: The Two Towers\",\"titleType\":\"movie\",\"year\":2002,\"principals\":[{\"disambiguation\":\"I\",\"id\":\"/name/nm0000704/\",\"legacyNameText\":\"Wood, Elijah (I)\",\"name\":\"Elijah Wood\",\"billing\":36,\"category\":\"actor\",\"characters\":[\"Frodo\"],\"roles\":[{\"character\":\"Frodo\",\"characterId\":\"/character/ch0000139/\"}]},{\"id\":\"/name/nm0005212/\",\"legacyNameText\":\"McKellen, Ian\",\"name\":\"Ian McKellen\",\"billing\":20,\"category\":\"actor\",\"characters\":[\"Gandalf\"],\"roles\":[{\"character\":\"Gandalf\",\"characterId\":\"/character/ch0000143/\"}]},{\"id\":\"/name/nm0001557/\",\"legacyNameText\":\"Mortensen, Viggo\",\"name\":\"Viggo Mortensen\",\"billing\":22,\"category\":\"actor\",\"characters\":[\"Aragorn\"],\"roles\":[{\"character\":\"Aragorn\",\"characterId\":\"/character/ch0000135/\"}]}]},{\"id\":\"/title/tt9144676/\",\"image\":{\"height\":800,\"id\":\"/title/tt9144676/images/rm2009117697\",\"url\":\"https://m.media-amazon.com/images/M/MV5BMDIzMjMxODQtNDc3Mi00NWZkLWEzMGYtZWY2ZmI0MmM5YzljXkEyXkFqcGdeQXVyODIxNDM0MTQ@._V1_.jpg\",\"width\":544},\"runningTimeInMinutes\":15,\"title\":\"The Lord of the Rings\",\"titleType\":\"video\",\"year\":2017},{\"id\":\"/title/tt12789698/\",\"image\":{\"height\":455,\"id\":\"/title/tt12789698/images/rm3753288193\",\"url\":\"https://m.media-amazon.com/images/M/MV5BNDEzNDJhNzctMjNhZC00MThiLWFjN2EtZGJlZTM5Yjg1MGY0XkEyXkFqcGdeQXVyODE1OTI0Mjg@._V1_.jpg\",\"width\":808},\"title\":\"The Lord of the Rings: Gollum\",\"titleType\":\"videoGame\",\"year\":2022},{\"episode\":13,\"id\":\"/title/tt9463760/\",\"image\":{\"height\":375,\"id\":\"/title/tt9463760/images/rm3206374144\",\"url\":\"https://m.media-amazon.com/images/M/MV5BMDEyMzAxZDAtYTNiNS00YmQwLTg4YTEtMzg2NDUzNTc4NDBjXkEyXkFqcGdeQXVyNTM3MDMyMDQ@._V1_.jpg\",\"width\":500},\"runningTimeInMinutes\":22,\"season\":3,\"nextEpisode\":\"/title/tt11321192/\",\"parentTitle\":{\"id\":\"/title/tt5912064/\",\"image\":{\"height\":12699,\"id\":\"/title/tt5912064/images/rm3735293440\",\"url\":\"https://m.media-amazon.com/images/M/MV5BODQxMmI3ZGQtOGRlNy00MzI3LWE3ZmItOWRjM2I2YjQyYzgzXkEyXkFqcGdeQXVyMzI2MzYyNzI@._V1_.jpg\",\"width\":10299},\"title\":\"Kim's Convenience\",\"titleType\":\"tvSeries\",\"year\":2016},\"previousEpisode\":\"/title/tt9463466/\",\"seriesEndYear\":2021,\"seriesStartYear\":2016,\"title\":\"Lord of the Ring\",\"titleType\":\"tvEpisode\",\"year\":2019,\"principals\":[{\"id\":\"/name/nm0498004/\",\"legacyNameText\":\"Lee, Paul Sun-Hyung\",\"name\":\"Paul Sun-Hyung Lee\",\"billing\":1,\"category\":\"actor\",\"characters\":[\"Appa\"],\"roles\":[{\"character\":\"Appa\",\"characterId\":\"/character/ch0459504/\"}]},{\"disambiguation\":\"I\",\"id\":\"/name/nm1050153/\",\"legacyNameText\":\"Yoon, Jean (I)\",\"name\":\"Jean Yoon\",\"billing\":2,\"category\":\"actress\",\"characters\":[\"Umma\"],\"roles\":[{\"character\":\"Umma\",\"characterId\":\"/character/ch0553487/\"}]},{\"id\":\"/name/nm4490375/\",\"legacyNameText\":\"Bang, Andrea\",\"name\":\"Andrea Bang\",\"billing\":3,\"category\":\"actress\",\"characters\":[\"Janet\"],\"roles\":[{\"character\":\"Janet\",\"characterId\":\"/character/ch0556126/\"}]}]},{\"episode\":12,\"id\":\"/title/tt2502200/\",\"image\":{\"height\":653,\"id\":\"/title/tt2502200/images/rm976596224\",\"url\":\"https://m.media-amazon.com/images/M/MV5BMTY4NTYxNTI2MF5BMl5BanBnXkFtZTcwMDMzMTU5OA@@._V1_.jpg\",\"width\":435},\"runningTimeInMinutes\":22,\"season\":3,\"nextEpisode\":\"/title/tt2632946/\",\"parentTitle\":{\"id\":\"/title/tt1615919/\",\"image\":{\"height\":700,\"id\":\"/title/tt1615919/images/rm3313313536\",\"url\":\"https://m.media-amazon.com/images/M/MV5BMjBkOTU1OWUtY2FhNy00ODFjLTgxMjItYzQ5MWQ1ZWRjYTI2XkEyXkFqcGdeQXVyNjU2NjA5NjM@._V1_.jpg\",\"width\":472},\"title\":\"Raising Hope\",\"titleType\":\"tvSeries\",\"year\":2010},\"previousEpisode\":\"/title/tt2594944/\",\"seriesEndYear\":2014,\"seriesStartYear\":2010,\"title\":\"Lord of the Ring\",\"titleType\":\"tvEpisode\",\"year\":2013,\"principals\":[{\"id\":\"/name/nm3432505/\",\"legacyNameText\":\"Neff, Lucas\",\"name\":\"Lucas Neff\",\"billing\":1,\"category\":\"actor\",\"characters\":[\"Jimmy Chance\"],\"roles\":[{\"character\":\"Jimmy Chance\",\"characterId\":\"/character/ch0223582/\"}]},{\"id\":\"/name/nm0000588/\",\"legacyNameText\":\"Plimpton, Martha\",\"name\":\"Martha Plimpton\",\"billing\":2,\"category\":\"actress\",\"characters\":[\"Virginia Chance\"],\"roles\":[{\"character\":\"Virginia Chance\",\"characterId\":\"/character/ch0225439/\"}]},{\"id\":\"/name/nm0226813/\",\"legacyNameText\":\"Dillahunt, Garret\",\"name\":\"Garret Dillahunt\",\"billing\":3,\"category\":\"actor\",\"characters\":[\"Burt Chance\"],\"roles\":[{\"character\":\"Burt Chance\",\"characterId\":\"/character/ch0185059/\"}]}]},{\"episode\":12,\"id\":\"/title/tt13229246/\",\"image\":{\"height\":454,\"id\":\"/title/tt13229246/images/rm70180609\",\"url\":\"https://m.media-amazon.com/images/M/MV5BMTY4MTk5OTYtOTNlYy00ZDljLTk2YmYtMTFjZjJmNTRiMjI2XkEyXkFqcGdeQXVyNTgzMTg5Ng@@._V1_.jpg\",\"width\":809},\"season\":7,\"nextEpisode\":\"/title/tt13316166/\",\"parentTitle\":{\"id\":\"/title/tt1811179/\",\"image\":{\"height\":1000,\"id\":\"/title/tt1811179/images/rm3770463489\",\"url\":\"https://m.media-amazon.com/images/M/MV5BY2IzZDQxODktNGE3ZC00MDk0LWE0OGQtMGIzMzFlYjUzZGZlXkEyXkFqcGdeQXVyMTAwMzM3NDI3._V1_.jpg\",\"width\":680},\"title\":\"Penn & Teller: Fool Us\",\"titleType\":\"tvSeries\",\"year\":2011},\"previousEpisode\":\"/title/tt13229242/\",\"seriesStartYear\":2011,\"title\":\"Lord of the Ring\",\"titleType\":\"tvEpisode\",\"year\":2020,\"principals\":[{\"id\":\"/name/nm0422710/\",\"legacyNameText\":\"Jillette, Penn\",\"name\":\"Penn Jillette\",\"billing\":1,\"category\":\"self\",\"characters\":[\"Self - Host\"],\"roles\":[{\"character\":\"Self - Host\"}]},{\"disambiguation\":\"I\",\"id\":\"/name/nm0854418/\",\"legacyNameText\":\"Teller (I)\",\"name\":\"Teller\",\"billing\":2,\"category\":\"self\",\"characters\":[\"Self - Host\"],\"roles\":[{\"character\":\"Self - Host\"}]},{\"id\":\"/name/nm0004989/\",\"legacyNameText\":\"Hannigan, Alyson\",\"name\":\"Alyson Hannigan\",\"billing\":3,\"category\":\"self\",\"characters\":[\"Self - Host\"],\"roles\":[{\"character\":\"Self - Host\"}]}]},{\"episode\":2,\"id\":\"/title/tt1300833/\",\"runningTimeInMinutes\":22,\"season\":3,\"nextEpisode\":\"/title/tt1305357/\",\"parentTitle\":{\"id\":\"/title/tt0923293/\",\"image\":{\"height\":550,\"id\":\"/title/tt0923293/images/rm1601561600\",\"url\":\"https://m.media-amazon.com/images/M/MV5BMjM1NjY4MjI5N15BMl5BanBnXkFtZTgwMTA4ODU4NzE@._V1_.jpg\",\"width\":393},\"title\":\"Little Mosque on the Prairie\",\"titleType\":\"tvSeries\",\"year\":2007},\"previousEpisode\":\"/title/tt1301523/\",\"seriesEndYear\":2012,\"seriesStartYear\":2007,\"title\":\"Lord of the Ring\",\"titleType\":\"tvEpisode\",\"year\":2008,\"principals\":[{\"disambiguation\":\"I\",\"id\":\"/name/nm0744690/\",\"legacyNameText\":\"Rota, Carlo (I)\",\"name\":\"Carlo Rota\",\"billing\":1,\"category\":\"actor\",\"characters\":[\"Yasir Hamoudi\"],\"roles\":[{\"character\":\"Yasir Hamoudi\",\"characterId\":\"/character/ch0071531/\"}]},{\"id\":\"/name/nm1778897/\",\"legacyNameText\":\"Shaikh, Zaib\",\"name\":\"Zaib Shaikh\",\"billing\":2,\"category\":\"actor\",\"characters\":[\"Amaar Rashid\"],\"roles\":[{\"character\":\"Amaar Rashid\",\"characterId\":\"/character/ch0080256/\"}]},{\"id\":\"/name/nm2060229/\",\"legacyNameText\":\"Hewitt, Sitara\",\"name\":\"Sitara Hewitt\",\"billing\":3,\"category\":\"actress\",\"characters\":[\"Rayyan Hamoudi\"],\"roles\":[{\"character\":\"Rayyan Hamoudi\",\"characterId\":\"/character/ch0219738/\"}]}]},{\"episode\":5,\"id\":\"/title/tt2274370/\",\"image\":{\"height\":375,\"id\":\"/title/tt2274370/images/rm4221290240\",\"url\":\"https://m.media-amazon.com/images/M/MV5BMjI2Nzg4OTIzNF5BMl5BanBnXkFtZTgwNDAwMzU2MjE@._V1_.jpg\",\"width\":500},\"runningTimeInMinutes\":22,\"season\":7,\"nextEpisode\":\"/title/tt2347752/\",\"parentTitle\":{\"id\":\"/title/tt1492088/\",\"image\":{\"height\":1500,\"id\":\"/title/tt1492088/images/rm3691578880\",\"url\":\"https://m.media-amazon.com/images/M/MV5BMTQ3OTkxMDEwMV5BMl5BanBnXkFtZTgwMjAyMDI2MDI@._V1_.jpg\",\"width\":1012},\"title\":\"Pawn Stars\",\"titleType\":\"tvSeries\",\"year\":2009},\"previousEpisode\":\"/title/tt2274326/\",\"seriesStartYear\":2009,\"title\":\"Lord of the Ring\",\"titleType\":\"tvEpisode\",\"year\":2012,\"principals\":[{\"id\":\"/name/nm4955521/\",\"legacyNameText\":\"Gottlieb, Craig\",\"name\":\"Craig Gottlieb\",\"category\":\"self\",\"characters\":[\"Self\"],\"roles\":[{\"character\":\"Self\"}]},{\"disambiguation\":\"IV\",\"id\":\"/name/nm3623485/\",\"legacyNameText\":\"Harrison, Rick (IV)\",\"name\":\"Rick Harrison\",\"category\":\"self\",\"characters\":[\"Self\"],\"roles\":[{\"character\":\"Self\"}]}]},{\"id\":\"/title/tt3882488/\",\"nextEpisode\":\"/title/tt11752832/\",\"parentTitle\":{\"id\":\"/title/tt1033805/\",\"image\":{\"height\":1444,\"id\":\"/title/tt1033805/images/rm370870272\",\"url\":\"https://m.media-amazon.com/images/M/MV5BZDQxOTZjNjctNjg3YS00MDM5LWFhMjYtN2JmZmJkYTc0OGQ4XkEyXkFqcGdeQXVyNjc0NTU1Mw@@._V1_.jpg\",\"width\":964},\"title\":\"E:60\",\"titleType\":\"tvSeries\",\"year\":2007},\"previousEpisode\":\"/title/tt4190608/\",\"seriesStartYear\":2007,\"title\":\"Lord of the Ring\",\"titleType\":\"tvEpisode\",\"year\":2009,\"principals\":[{\"id\":\"/name/nm1078479/\",\"legacyNameText\":\"Cena, John\",\"name\":\"John Cena\",\"category\":\"self\",\"characters\":[\"Self\"],\"roles\":[{\"character\":\"Self\"}]},{\"id\":\"/name/nm0366170/\",\"legacyNameText\":\"Hart, Bret\",\"name\":\"Bret Hart\",\"as\":\"Bret 'Hitman' Hart\",\"category\":\"self\",\"characters\":[\"Self\"],\"roles\":[{\"character\":\"Self\"}]},{\"id\":\"/name/nm0001356/\",\"legacyNameText\":\"Hogan, Hulk\",\"name\":\"Hulk Hogan\",\"category\":\"self\",\"characters\":[\"Self\"],\"roles\":[{\"character\":\"Self\"}]}]}],\"types\":[\"title\",\"name\"]}\n"
     ]
    }
   ],
   "source": [
    "url = \"https://imdb8.p.rapidapi.com/title/find\"\n",
    "\n",
    "querystring = {\"q\":\"lord of the rings\"}\n",
    "\n",
    "headers = {\n",
    "    'x-rapidapi-host': \"imdb8.p.rapidapi.com\",\n",
    "    'x-rapidapi-key': \"aeb936a0c1msh6452ef59508cb3dp1018f4jsn39326e805a73\"\n",
    "    }\n",
    "\n",
    "response = requests.request(\"GET\", url, headers=headers, params=querystring)\n",
    "\n",
    "print(response.text)"
   ]
  },
  {
   "cell_type": "code",
   "execution_count": 3,
   "id": "39a130e3",
   "metadata": {
    "scrolled": true
   },
   "outputs": [],
   "source": [
    "res_json = response.json()"
   ]
  },
  {
   "cell_type": "code",
   "execution_count": 4,
   "id": "f0e9fd72",
   "metadata": {},
   "outputs": [
    {
     "data": {
      "text/plain": [
       "dict_keys(['@meta', '@type', 'query', 'results', 'types'])"
      ]
     },
     "execution_count": 4,
     "metadata": {},
     "output_type": "execute_result"
    }
   ],
   "source": [
    "res_json.keys()"
   ]
  },
  {
   "cell_type": "code",
   "execution_count": 5,
   "id": "46c8b6bb",
   "metadata": {
    "scrolled": true
   },
   "outputs": [
    {
     "data": {
      "text/plain": [
       "'/title/tt0167260/'"
      ]
     },
     "execution_count": 5,
     "metadata": {},
     "output_type": "execute_result"
    }
   ],
   "source": [
    "res_json['results'][10]['id']"
   ]
  },
  {
   "cell_type": "markdown",
   "id": "ac5fbd29",
   "metadata": {},
   "source": [
    "### Petición para obtención de la ganancia de la película por país"
   ]
  },
  {
   "cell_type": "code",
   "execution_count": 6,
   "id": "8cd93e91",
   "metadata": {
    "collapsed": true
   },
   "outputs": [
    {
     "name": "stdout",
     "output_type": "stream",
     "text": [
      "{\"@meta\":{\"operation\":\"TitleBusinessV2\",\"requestId\":\"82e53e46-9a4a-47f8-ac80-f42bd7db0e00\",\"serviceTimeMs\":2.941013},\"resource\":{\"@type\":\"imdb.api.title.v2.business\",\"id\":\"/title/tt0167260/\",\"title\":\"The Lord of the Rings: The Return of the King\",\"titleType\":\"movie\",\"year\":2003,\"budget\":{\"amount\":94000000,\"currency\":\"USD\"},\"gross\":{\"aggregations\":[{\"area\":\"XWW\",\"areaName\":\"World-wide\",\"total\":{\"amount\":1146030912,\"currency\":\"USD\"}},{\"area\":\"XNDOM\",\"areaName\":\"International\",\"total\":{\"amount\":768185007,\"currency\":\"USD\"}},{\"area\":\"XR2\",\"areaName\":\"Russia and Commonwealth of Independent States\",\"total\":{\"amount\":14080000,\"currency\":\"USD\"}},{\"area\":\"XC3\",\"areaName\":\"Czech Republic and Slovakia\",\"total\":{\"amount\":3575890,\"currency\":\"USD\"}},{\"area\":\"XCN\",\"areaName\":\"Central America+\",\"total\":{\"amount\":2289571,\"currency\":\"USD\"}},{\"area\":\"XL3\",\"areaName\":\"Lebanon and United Arab Emirates\",\"total\":{\"amount\":1533229,\"currency\":\"USD\"}},{\"area\":\"XB2\",\"areaName\":\"Baltic States\",\"total\":{\"amount\":937415,\"currency\":\"USD\"}},{\"area\":\"XW2\",\"areaName\":\"West Indies\",\"total\":{\"amount\":540013,\"currency\":\"USD\"}}],\"regional\":[{\"region\":\"XDOM\",\"regionName\":\"Domestic\",\"total\":{\"amount\":377845905,\"currency\":\"USD\"}},{\"region\":\"GB\",\"regionName\":\"United Kingdom\",\"total\":{\"amount\":106689784,\"currency\":\"USD\"}},{\"region\":\"JP\",\"regionName\":\"Japan\",\"total\":{\"amount\":95377501,\"currency\":\"USD\"}},{\"region\":\"DE\",\"regionName\":\"Germany\",\"total\":{\"amount\":87207000,\"currency\":\"USD\"}},{\"region\":\"FR\",\"regionName\":\"France\",\"total\":{\"amount\":48409847,\"currency\":\"USD\"}},{\"region\":\"ES\",\"regionName\":\"Spain\",\"total\":{\"amount\":39834538,\"currency\":\"USD\"}},{\"region\":\"AU\",\"regionName\":\"Australia\",\"total\":{\"amount\":36645596,\"currency\":\"USD\"}},{\"region\":\"IT\",\"regionName\":\"Italy\",\"total\":{\"amount\":35837796,\"currency\":\"USD\"}},{\"region\":\"KR\",\"regionName\":\"South Korea\",\"total\":{\"amount\":28770329,\"currency\":\"USD\"}},{\"region\":\"SE\",\"regionName\":\"Sweden\",\"total\":{\"amount\":24123767,\"currency\":\"USD\"}},{\"region\":\"NL\",\"regionName\":\"Netherlands\",\"total\":{\"amount\":19348313,\"currency\":\"USD\"}},{\"region\":\"DK\",\"regionName\":\"Denmark\",\"total\":{\"amount\":16188249,\"currency\":\"USD\"}},{\"region\":\"MX\",\"regionName\":\"Mexico\",\"total\":{\"amount\":15685944,\"currency\":\"USD\"}},{\"region\":\"CN\",\"regionName\":\"China\",\"total\":{\"amount\":13827541,\"currency\":\"USD\"}},{\"region\":\"NO\",\"regionName\":\"Norway\",\"total\":{\"amount\":12460370,\"currency\":\"USD\"}},{\"region\":\"RU\",\"regionName\":\"Russia\",\"total\":{\"amount\":12122431,\"currency\":\"USD\"}},{\"region\":\"TW\",\"regionName\":\"Taiwan\",\"total\":{\"amount\":11756953,\"currency\":\"USD\"}},{\"region\":\"CH\",\"regionName\":\"Switzerland\",\"total\":{\"amount\":10991061,\"currency\":\"USD\"}},{\"region\":\"BE\",\"regionName\":\"Belgium\",\"total\":{\"amount\":9902589,\"currency\":\"USD\"}},{\"region\":\"BR\",\"regionName\":\"Brazil\",\"total\":{\"amount\":9902206,\"currency\":\"USD\"}},{\"region\":\"AT\",\"regionName\":\"Austria\",\"total\":{\"amount\":9867822,\"currency\":\"USD\"}},{\"region\":\"NZ\",\"regionName\":\"New Zealand\",\"total\":{\"amount\":8986984,\"currency\":\"USD\"}},{\"region\":\"GR\",\"regionName\":\"Greece\",\"total\":{\"amount\":8037200,\"currency\":\"USD\"}},{\"region\":\"PL\",\"regionName\":\"Poland\",\"total\":{\"amount\":7968195,\"currency\":\"USD\"}},{\"region\":\"FI\",\"regionName\":\"Finland\",\"total\":{\"amount\":7096209,\"currency\":\"USD\"}},{\"region\":\"TR\",\"regionName\":\"Turkey\",\"total\":{\"amount\":5244164,\"currency\":\"USD\"}},{\"region\":\"HK\",\"regionName\":\"Hong Kong\",\"total\":{\"amount\":4983077,\"currency\":\"USD\"}},{\"region\":\"PT\",\"regionName\":\"Portugal\",\"total\":{\"amount\":4702013,\"currency\":\"USD\"}},{\"region\":\"AR\",\"regionName\":\"Argentina\",\"total\":{\"amount\":4698147,\"currency\":\"USD\"}},{\"region\":\"TH\",\"regionName\":\"Thailand\",\"total\":{\"amount\":4630752,\"currency\":\"USD\"}},{\"region\":\"ZA\",\"regionName\":\"South Africa\",\"total\":{\"amount\":3840418,\"currency\":\"USD\"}},{\"region\":\"CZ\",\"regionName\":\"Czech Republic\",\"total\":{\"amount\":3694173,\"currency\":\"USD\"}},{\"region\":\"SG\",\"regionName\":\"Singapore\",\"total\":{\"amount\":3143349,\"currency\":\"USD\"}},{\"region\":\"CL\",\"regionName\":\"Chile\",\"total\":{\"amount\":3113642,\"currency\":\"USD\"}},{\"region\":\"HU\",\"regionName\":\"Hungary\",\"total\":{\"amount\":2943624,\"currency\":\"USD\"}},{\"region\":\"IL\",\"regionName\":\"Israel\",\"total\":{\"amount\":2890082,\"currency\":\"USD\"}},{\"region\":\"CO\",\"regionName\":\"Colombia\",\"total\":{\"amount\":2592113,\"currency\":\"USD\"}},{\"region\":\"PS\",\"regionName\":\"Occupied Palestinian Territory\",\"total\":{\"amount\":2197356,\"currency\":\"USD\"}},{\"region\":\"MY\",\"regionName\":\"Malaysia\",\"total\":{\"amount\":1903364,\"currency\":\"USD\"}},{\"region\":\"PR\",\"regionName\":\"Puerto Rico\",\"total\":{\"amount\":1871308,\"currency\":\"USD\"}},{\"region\":\"UA\",\"regionName\":\"Ukraine\",\"total\":{\"amount\":1623212,\"currency\":\"USD\"}},{\"region\":\"PH\",\"regionName\":\"Philippines\",\"total\":{\"amount\":1605882,\"currency\":\"USD\"}},{\"region\":\"PE\",\"regionName\":\"Peru\",\"total\":{\"amount\":1390557,\"currency\":\"USD\"}},{\"region\":\"ID\",\"regionName\":\"Indonesia\",\"total\":{\"amount\":1323144,\"currency\":\"USD\"}},{\"region\":\"HR\",\"regionName\":\"Croatia\",\"total\":{\"amount\":1245950,\"currency\":\"USD\"}},{\"region\":\"VE\",\"regionName\":\"Venezuela\",\"total\":{\"amount\":1196154,\"currency\":\"USD\"}},{\"region\":\"IS\",\"regionName\":\"Iceland\",\"total\":{\"amount\":1006014,\"currency\":\"USD\"}},{\"region\":\"IN\",\"regionName\":\"India\",\"total\":{\"amount\":944651,\"currency\":\"USD\"}},{\"region\":\"CSXX\",\"regionName\":\"Serbia and Montenegro\",\"total\":{\"amount\":680354,\"currency\":\"USD\"}},{\"region\":\"EC\",\"regionName\":\"Ecuador\",\"total\":{\"amount\":643687,\"currency\":\"USD\"}},{\"region\":\"SI\",\"regionName\":\"Slovenia\",\"total\":{\"amount\":620872,\"currency\":\"USD\"}},{\"region\":\"BG\",\"regionName\":\"Bulgaria\",\"total\":{\"amount\":609501,\"currency\":\"USD\"}},{\"region\":\"SK\",\"regionName\":\"Slovakia\",\"total\":{\"amount\":532439,\"currency\":\"USD\"}},{\"region\":\"RO\",\"regionName\":\"Romania\",\"total\":{\"amount\":414102,\"currency\":\"USD\"}},{\"region\":\"EE\",\"regionName\":\"Estonia\",\"total\":{\"amount\":402859,\"currency\":\"USD\"}},{\"region\":\"BO\",\"regionName\":\"Bolivia\",\"total\":{\"amount\":291146,\"currency\":\"USD\"}},{\"region\":\"UY\",\"regionName\":\"Uruguay\",\"total\":{\"amount\":288591,\"currency\":\"USD\"}},{\"region\":\"LT\",\"regionName\":\"Lithuania\",\"total\":{\"amount\":275877,\"currency\":\"USD\"}},{\"region\":\"LV\",\"regionName\":\"Latvia\",\"total\":{\"amount\":258679,\"currency\":\"USD\"}},{\"region\":\"EG\",\"regionName\":\"Egypt\",\"total\":{\"amount\":219683,\"currency\":\"USD\"}},{\"region\":\"LB\",\"regionName\":\"Lebanon\",\"total\":{\"amount\":150000,\"currency\":\"USD\"}},{\"region\":\"AE\",\"regionName\":\"United Arab Emirates\",\"total\":{\"amount\":19728,\"currency\":\"USD\"}}]},\"openingWeekendGross\":{\"aggregations\":[{\"area\":\"XNDOM\",\"areaName\":\"International\",\"total\":{\"amount\":125900000,\"currency\":\"USD\"}},{\"area\":\"XWW\",\"areaName\":\"World-wide\",\"total\":{\"amount\":72629713,\"currency\":\"USD\"}},{\"area\":\"XR2\",\"areaName\":\"Russia and Commonwealth of Independent States\",\"total\":{\"amount\":4179458,\"currency\":\"USD\"}}],\"regional\":[{\"region\":\"XDOM\",\"regionName\":\"Domestic\",\"total\":{\"amount\":72629713,\"currency\":\"USD\"}},{\"region\":\"GB\",\"regionName\":\"United Kingdom\",\"total\":{\"amount\":26521471,\"currency\":\"USD\"}},{\"region\":\"JP\",\"regionName\":\"Japan\",\"total\":{\"amount\":14676989,\"currency\":\"USD\"}},{\"region\":\"IT\",\"regionName\":\"Italy\",\"total\":{\"amount\":8281016,\"currency\":\"USD\"}},{\"region\":\"CN\",\"regionName\":\"China\",\"total\":{\"amount\":3400000,\"currency\":\"USD\"}},{\"region\":\"PL\",\"regionName\":\"Poland\",\"total\":{\"amount\":1813534,\"currency\":\"USD\"}},{\"region\":\"NO\",\"regionName\":\"Norway\",\"total\":{\"amount\":1771045,\"currency\":\"USD\"}},{\"region\":\"TR\",\"regionName\":\"Turkey\",\"total\":{\"amount\":1497090,\"currency\":\"USD\"}},{\"region\":\"TH\",\"regionName\":\"Thailand\",\"total\":{\"amount\":1407400,\"currency\":\"USD\"}},{\"region\":\"CZ\",\"regionName\":\"Czech Republic\",\"total\":{\"amount\":680147,\"currency\":\"USD\"}},{\"region\":\"NL\",\"regionName\":\"Netherlands\",\"total\":{\"amount\":119785,\"currency\":\"USD\"}},{\"region\":\"KR\",\"regionName\":\"South Korea\",\"total\":{\"amount\":93356,\"currency\":\"USD\"}},{\"region\":\"AU\",\"regionName\":\"Australia\",\"total\":{\"amount\":92488,\"currency\":\"USD\"}},{\"region\":\"MX\",\"regionName\":\"Mexico\",\"total\":{\"amount\":59520,\"currency\":\"USD\"}},{\"region\":\"AE\",\"regionName\":\"United Arab Emirates\",\"total\":{\"amount\":12276,\"currency\":\"USD\"}},{\"region\":\"NZ\",\"regionName\":\"New Zealand\",\"total\":{\"amount\":674,\"currency\":\"USD\"}}]}}}\n"
     ]
    }
   ],
   "source": [
    "url = \"https://imdb8.p.rapidapi.com/title/get-business\"\n",
    "\n",
    "query = {\"tconst\":\"tt0167260\"}\n",
    "\n",
    "headers = {\n",
    "    'x-rapidapi-host': \"imdb8.p.rapidapi.com\",\n",
    "    'x-rapidapi-key': \"aeb936a0c1msh6452ef59508cb3dp1018f4jsn39326e805a73\"\n",
    "    }\n",
    "\n",
    "response = requests.request(\"GET\", url, headers=headers, params=query)\n",
    "\n",
    "print(response.text)"
   ]
  },
  {
   "cell_type": "code",
   "execution_count": 7,
   "id": "32d2205f",
   "metadata": {},
   "outputs": [],
   "source": [
    "res_json = response.json()"
   ]
  },
  {
   "cell_type": "code",
   "execution_count": 9,
   "id": "888cb4e0",
   "metadata": {
    "scrolled": true
   },
   "outputs": [
    {
     "data": {
      "text/html": [
       "<div>\n",
       "<style scoped>\n",
       "    .dataframe tbody tr th:only-of-type {\n",
       "        vertical-align: middle;\n",
       "    }\n",
       "\n",
       "    .dataframe tbody tr th {\n",
       "        vertical-align: top;\n",
       "    }\n",
       "\n",
       "    .dataframe thead th {\n",
       "        text-align: right;\n",
       "    }\n",
       "</style>\n",
       "<table border=\"1\" class=\"dataframe\">\n",
       "  <thead>\n",
       "    <tr style=\"text-align: right;\">\n",
       "      <th></th>\n",
       "      <th>region</th>\n",
       "      <th>regionName</th>\n",
       "      <th>total.amount</th>\n",
       "      <th>total.currency</th>\n",
       "    </tr>\n",
       "  </thead>\n",
       "  <tbody>\n",
       "    <tr>\n",
       "      <th>0</th>\n",
       "      <td>XDOM</td>\n",
       "      <td>Domestic</td>\n",
       "      <td>377845905</td>\n",
       "      <td>USD</td>\n",
       "    </tr>\n",
       "    <tr>\n",
       "      <th>1</th>\n",
       "      <td>GB</td>\n",
       "      <td>United Kingdom</td>\n",
       "      <td>106689784</td>\n",
       "      <td>USD</td>\n",
       "    </tr>\n",
       "    <tr>\n",
       "      <th>2</th>\n",
       "      <td>JP</td>\n",
       "      <td>Japan</td>\n",
       "      <td>95377501</td>\n",
       "      <td>USD</td>\n",
       "    </tr>\n",
       "    <tr>\n",
       "      <th>3</th>\n",
       "      <td>DE</td>\n",
       "      <td>Germany</td>\n",
       "      <td>87207000</td>\n",
       "      <td>USD</td>\n",
       "    </tr>\n",
       "    <tr>\n",
       "      <th>4</th>\n",
       "      <td>FR</td>\n",
       "      <td>France</td>\n",
       "      <td>48409847</td>\n",
       "      <td>USD</td>\n",
       "    </tr>\n",
       "  </tbody>\n",
       "</table>\n",
       "</div>"
      ],
      "text/plain": [
       "  region      regionName  total.amount total.currency\n",
       "0   XDOM        Domestic     377845905            USD\n",
       "1     GB  United Kingdom     106689784            USD\n",
       "2     JP           Japan      95377501            USD\n",
       "3     DE         Germany      87207000            USD\n",
       "4     FR          France      48409847            USD"
      ]
     },
     "execution_count": 9,
     "metadata": {},
     "output_type": "execute_result"
    }
   ],
   "source": [
    "df_gross = pd.json_normalize(res_json['resource']['gross']['regional'])\n",
    "df = pd.DataFrame(df_gross)\n",
    "\n",
    "df.to_csv('Return_of_the_king_gross_income.csv', index=False)\n",
    "df.head()"
   ]
  },
  {
   "cell_type": "code",
   "execution_count": null,
   "id": "f887017a",
   "metadata": {},
   "outputs": [],
   "source": []
  }
 ],
 "metadata": {
  "kernelspec": {
   "display_name": "Python 3",
   "language": "python",
   "name": "python3"
  },
  "language_info": {
   "codemirror_mode": {
    "name": "ipython",
    "version": 3
   },
   "file_extension": ".py",
   "mimetype": "text/x-python",
   "name": "python",
   "nbconvert_exporter": "python",
   "pygments_lexer": "ipython3",
   "version": "3.8.8"
  }
 },
 "nbformat": 4,
 "nbformat_minor": 5
}
