{
 "cells": [
  {
   "cell_type": "markdown",
   "id": "b4453370",
   "metadata": {},
   "source": [
    "# API DENUE\n"
   ]
  },
  {
   "cell_type": "code",
   "execution_count": 91,
   "id": "4ec51ddc",
   "metadata": {},
   "outputs": [],
   "source": [
    "from IPython.display import Image\n",
    "import requests\n",
    "import time\n",
    "import pandas as pd\n",
    "from pathlib import Path"
   ]
  },
  {
   "cell_type": "code",
   "execution_count": 92,
   "id": "0bcb6523",
   "metadata": {
    "scrolled": false
   },
   "outputs": [],
   "source": [
    "def establecimiento(name):\n",
    "    palabra=name\n",
    "    link = f\"https://www.inegi.org.mx/app/api/denue/v1/consulta/BuscarAreaAct/00/0/0/0/0/0/0/0/0/{palabra}/1/2000/0/token\"\n",
    "    res=requests.get(link)\n",
    "    res.status_code\n",
    "    res=res.json()\n",
    "    df = pd.DataFrame(res)\n",
    "    filepath = Path('denue.csv')  \n",
    "    filepath.parent.mkdir(parents=True, exist_ok=True)  \n",
    "    df.to_csv(filepath)\n",
    "    return \n",
    "    \n",
    "establecimiento('oxxo')"
   ]
  },
  {
   "cell_type": "code",
   "execution_count": null,
   "id": "4f56462c",
   "metadata": {},
   "outputs": [],
   "source": []
  },
  {
   "cell_type": "code",
   "execution_count": null,
   "id": "aaaae3e3",
   "metadata": {},
   "outputs": [],
   "source": []
  }
 ],
 "metadata": {
  "kernelspec": {
   "display_name": "Python 3 (ipykernel)",
   "language": "python",
   "name": "python3"
  },
  "language_info": {
   "codemirror_mode": {
    "name": "ipython",
    "version": 3
   },
   "file_extension": ".py",
   "mimetype": "text/x-python",
   "name": "python",
   "nbconvert_exporter": "python",
   "pygments_lexer": "ipython3",
   "version": "3.10.3"
  }
 },
 "nbformat": 4,
 "nbformat_minor": 5
}
