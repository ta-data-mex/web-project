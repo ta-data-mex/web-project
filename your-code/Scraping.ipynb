{
 "cells": [
  {
   "cell_type": "code",
   "execution_count": 1,
   "metadata": {},
   "outputs": [],
   "source": [
    "import requests\n",
    "from bs4 import BeautifulSoup\n",
    "import pandas as pd\n",
    "from pprint import pprint\n",
    "from lxml import html\n",
    "from lxml.html import fromstring\n",
    "import urllib.request\n",
    "from urllib.request import urlopen\n",
    "import random\n",
    "import re\n",
    "import scrapy"
   ]
  },
  {
   "cell_type": "code",
   "execution_count": 2,
   "metadata": {},
   "outputs": [],
   "source": [
    "url = 'https://www.imdb.com/title/tt0804503/'"
   ]
  },
  {
   "cell_type": "code",
   "execution_count": 26,
   "metadata": {},
   "outputs": [],
   "source": [
    "soup = requests.get(url).content\n",
    "soup = BeautifulSoup(soup,'html.parser')\n"
   ]
  },
  {
   "cell_type": "code",
   "execution_count": 46,
   "metadata": {},
   "outputs": [
    {
     "data": {
      "text/plain": [
       "['Jon Hamm',\n",
       " 'Elisabeth Moss',\n",
       " 'Vincent Kartheiser',\n",
       " 'January Jones',\n",
       " 'Christina Hendricks',\n",
       " 'Aaron Staton',\n",
       " 'Rich Sommer',\n",
       " 'John Slattery',\n",
       " 'Kiernan Shipka',\n",
       " 'Robert Morse',\n",
       " 'Christopher Stanley',\n",
       " 'Jessica Paré',\n",
       " 'Jay R. Ferguson',\n",
       " 'Michael Gladis',\n",
       " 'Bryan Batt',\n",
       " 'Alison Brie']"
      ]
     },
     "execution_count": 46,
     "metadata": {},
     "output_type": "execute_result"
    }
   ],
   "source": [
    "#Lista del casr\n",
    "cast = soup.select(\"table.cast_list a[href^='/name']\")\n",
    "names = [name.text for name in cast]\n",
    "names = list(map(lambda x:x.strip(),repositories))\n",
    "final_names = [text for text in names if len(text)>1]\n",
    "final_names"
   ]
  },
  {
   "cell_type": "code",
   "execution_count": 49,
   "metadata": {},
   "outputs": [
    {
     "data": {
      "text/plain": [
       "['Don Draper',\n",
       " 'Peggy Olson',\n",
       " 'Pete Campbell',\n",
       " 'Betty Francis',\n",
       " 'Joan Harris',\n",
       " 'Ken Cosgrove',\n",
       " 'Harry Crane',\n",
       " 'Roger Sterling',\n",
       " 'Sally Draper',\n",
       " 'Bertram Cooper',\n",
       " 'Henry Francis',\n",
       " 'Megan Draper',\n",
       " 'Stan Rizzo',\n",
       " 'Paul Kinsey',\n",
       " 'Salvatore Romano',\n",
       " 'Trudy Campbell']"
      ]
     },
     "execution_count": 49,
     "metadata": {},
     "output_type": "execute_result"
    }
   ],
   "source": [
    "#Lista de personajes\n",
    "characters = soup.select(\"td.character a[href^='/title']\")\n",
    "characters = [name.text for name in characters]\n",
    "characters"
   ]
  },
  {
   "cell_type": "code",
   "execution_count": 62,
   "metadata": {},
   "outputs": [
    {
     "data": {
      "text/plain": [
       "['92 episodes',\n",
       " '92 episodes',\n",
       " '92 episodes',\n",
       " '92 episodes',\n",
       " '92 episodes',\n",
       " '92 episodes',\n",
       " '92 episodes',\n",
       " '89 episodes',\n",
       " '89 episodes',\n",
       " '74 episodes',\n",
       " '54 episodes',\n",
       " '49 episodes',\n",
       " '46 episodes',\n",
       " '40 episodes',\n",
       " '39 episodes',\n",
       " '38 episodes']"
      ]
     },
     "execution_count": 62,
     "metadata": {},
     "output_type": "execute_result"
    }
   ],
   "source": [
    "#Lista de episodios por personaje\n",
    "episodes = soup.select(\"a.toggle-episodes\")\n",
    "episodes = [episode.text for episode in episodes]\n",
    "number_episodes = []\n",
    "for i in episodes:\n",
    "    number_episodes.append(i.split(\",\")[0])\n",
    "number_episodes\n"
   ]
  },
  {
   "cell_type": "code",
   "execution_count": 66,
   "metadata": {},
   "outputs": [
    {
     "data": {
      "text/plain": [
       "['7', '6', '5', '4', '3', '2', '1']"
      ]
     },
     "execution_count": 66,
     "metadata": {},
     "output_type": "execute_result"
    }
   ],
   "source": [
    "seasons = soup.select(\"div.seasons-and-year-nav a[href*='season']\")\n",
    "seasons = [season.text for season in seasons]\n",
    "seasons\n"
   ]
  },
  {
   "cell_type": "code",
   "execution_count": 67,
   "metadata": {},
   "outputs": [
    {
     "data": {
      "text/plain": [
       "['2015', '2014', '2013', '2012', '2010', '2009']"
      ]
     },
     "execution_count": 67,
     "metadata": {},
     "output_type": "execute_result"
    }
   ],
   "source": [
    "years = soup.select(\"div.seasons-and-year-nav a[href*='year']\")\n",
    "years = [year.text for year in years]\n",
    "years"
   ]
  },
  {
   "cell_type": "code",
   "execution_count": 94,
   "metadata": {},
   "outputs": [
    {
     "data": {
      "text/plain": [
       "[[], [], [], [], [], [], [], [], [], [], [], []]"
      ]
     },
     "execution_count": 94,
     "metadata": {},
     "output_type": "execute_result"
    }
   ],
   "source": [
    "ratingValue"
   ]
  },
  {
   "cell_type": "code",
   "execution_count": 87,
   "metadata": {},
   "outputs": [
    {
     "data": {
      "text/plain": [
       "[None,\n",
       " None,\n",
       " None,\n",
       " None,\n",
       " None,\n",
       " None,\n",
       " None,\n",
       " None,\n",
       " None,\n",
       " None,\n",
       " None,\n",
       " None,\n",
       " [],\n",
       " [],\n",
       " [],\n",
       " [],\n",
       " [],\n",
       " [],\n",
       " [],\n",
       " [],\n",
       " [],\n",
       " [],\n",
       " [],\n",
       " [],\n",
       " [],\n",
       " [],\n",
       " [],\n",
       " [],\n",
       " [],\n",
       " [],\n",
       " [],\n",
       " [],\n",
       " [],\n",
       " [],\n",
       " [],\n",
       " [],\n",
       " [],\n",
       " [],\n",
       " [],\n",
       " [],\n",
       " [],\n",
       " [],\n",
       " [],\n",
       " [],\n",
       " [],\n",
       " [],\n",
       " [],\n",
       " []]"
      ]
     },
     "execution_count": 87,
     "metadata": {},
     "output_type": "execute_result"
    }
   ],
   "source": []
  },
  {
   "cell_type": "code",
   "execution_count": null,
   "metadata": {},
   "outputs": [],
   "source": []
  }
 ],
 "metadata": {
  "kernelspec": {
   "display_name": "Python 3",
   "language": "python",
   "name": "python3"
  },
  "language_info": {
   "codemirror_mode": {
    "name": "ipython",
    "version": 3
   },
   "file_extension": ".py",
   "mimetype": "text/x-python",
   "name": "python",
   "nbconvert_exporter": "python",
   "pygments_lexer": "ipython3",
   "version": "3.7.4"
  }
 },
 "nbformat": 4,
 "nbformat_minor": 2
}
