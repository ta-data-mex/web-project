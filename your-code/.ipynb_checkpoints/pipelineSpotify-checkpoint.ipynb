{
 "cells": [
  {
   "cell_type": "code",
   "execution_count": 175,
   "metadata": {},
   "outputs": [],
   "source": [
    "import spotipy\n",
    "import spotipy.oauth2 as oauth2\n",
    "import pandas as pd"
   ]
  },
  {
   "cell_type": "code",
   "execution_count": 204,
   "metadata": {},
   "outputs": [
    {
     "data": {
      "text/plain": [
       "<matplotlib.axes._subplots.AxesSubplot at 0x155d7cf7f60>"
      ]
     },
     "execution_count": 204,
     "metadata": {},
     "output_type": "execute_result"
    },
    {
     "data": {
      "image/png": "[encoded data removed]",
      "text/plain": [
       "<Figure size 432x288 with 1 Axes>"
      ]
     },
     "metadata": {
      "needs_background": "light"
     },
     "output_type": "display_data"
    }
   ],
   "source": [
    "def changeFeatureValues(col):\n",
    "   \n",
    "    if(col[\"energy\"] <0.33):\n",
    "        col[\"energy\"]= \"low\"\n",
    "    elif(0.33 < col[\"energy\"] < 0.66):\n",
    "        col[\"energy\"]= \"average\"\n",
    "    else:\n",
    "        col[\"energy\"]= \"high\"\n",
    "   \n",
    "    if(col[\"acousticness\"] <0.33):\n",
    "        col[\"acousticness\"]= \"low\"\n",
    "    elif(0.33 < col[\"acousticness\"] < 0.66):\n",
    "        col[\"acousticness\"]= \"average\"\n",
    "    else:\n",
    "        col[\"acousticness\"]= \"high\"\n",
    "        \n",
    "    if( col[\"danceability\"] <0.33):\n",
    "         col[\"danceability\"]= \"low\"\n",
    "    elif(0.33 <  col[\"danceability\"]  < 0.66):\n",
    "         col[\"danceability\"]=\"average\"\n",
    "    else:\n",
    "         col[\"danceability\"]= \"high\"\n",
    "            \n",
    "    if(col[\"liveness\"] >0.8):\n",
    "        col[\"liveness\"]= \"high\"\n",
    "    else:\n",
    "        col[\"liveness\"]= \"low\"\n",
    "        \n",
    "        \n",
    "    if(col[\"speechiness\"] <0.33):\n",
    "            col[\"speechiness\"]= \"low\"\n",
    "    elif(0.33 < col[\"speechiness\"]  < 0.66):\n",
    "            col[\"speechiness\"]= \"average\"\n",
    "    else:\n",
    "            col[\"speechiness\"]= \"high\"\n",
    "            \n",
    "    if(col[\"instrumentalness\"] <0.5):\n",
    "            col[\"instrumentalness\"]= \"low\"\n",
    "    else:\n",
    "            col[\"instrumentalness\"]= \"high\"\n",
    "    \n",
    "    \n",
    "    if(col[\"valence\"] <0.33):\n",
    "        col[\"valence\"]= \"low\"\n",
    "    elif(0.33 < col[\"valence\"] < 0.66):\n",
    "        col[\"valence\"]= \"average\"\n",
    "    else:\n",
    "        col[\"valence\"]= \"high\"\n",
    "    \n",
    "    return col\n",
    "    \n",
    "    \n",
    "credentials = oauth2.SpotifyClientCredentials(\n",
    "        client_id=\"daee064121c042429033426b80cfacde\",\n",
    "        client_secret=\"4fe548d57d3940a3bb0245f7d82d7495\")\n",
    "\n",
    "token = credentials.get_access_token()\n",
    "spotify = spotipy.Spotify(auth=token)\n",
    "topMexico = spotify.search(\"Mexico Top 50\", offset=1, type='playlist')\n",
    "actualPlaylist = {key:value for key, value in topMexico['playlists']['items'][0].items()}\n",
    "tracks = spotify.user_playlist_tracks('spotify',actualPlaylist['id'])\n",
    "tracksInfo = [track['track'] for track in tracks['items']]\n",
    "for track in range(len(tracksInfo)):\n",
    "    for key,value in tracksInfo[track][\"album\"].items():\n",
    "        if(key==\"name\"):\n",
    "            tracksInfo[track][\"album\"]=tracksInfo[track]['album']['name']\n",
    "    tempArtists = []\n",
    "    tempArtistsGenres = []\n",
    "    for artist in range(len(tracksInfo[track][\"artists\"])):\n",
    "        \n",
    "        for key,value in tracksInfo[track][\"artists\"][artist].items():\n",
    "            if(key==\"id\"):\n",
    "                auxArtist = spotify.artist(tracksInfo[track]['artists'][artist]['id'])\n",
    "                tempArtistsGenres.append(\",\".join(auxArtist['genres']))\n",
    "                \n",
    "            if(key==\"name\"):\n",
    "                tempArtists.append(tracksInfo[track]['artists'][artist]['name'])\n",
    "\n",
    "    tracksInfo[track][\"artists\"]=\",\".join(tempArtists)\n",
    "    tracksInfo[track][\"genres\"]=\" \".join(tempArtistsGenres)\n",
    "\n",
    "tracksIds = [t['id'] for t in tracksInfo]\n",
    "tracksFeatures = spotify.audio_features(tracksIds)\n",
    "\n",
    "tracksDF =pd.DataFrame(tracksInfo)\n",
    "tracksFeaturesDF =pd.DataFrame(tracksFeatures)\n",
    "\n",
    "fullTrackInfo = pd.concat([tracksDF,tracksFeaturesDF],axis=1)\n",
    "fullTrackInfo = fullTrackInfo.drop(['episode','tempo','time_signature', 'disc_number','preview_url','analysis_url','type','uri','loudness','external_ids','track_number','track','external_urls','href','id','track_href','mode','is_local','key','duration_ms'], axis=1)\n",
    "\n",
    "modifiedFullTrack = fullTrackInfo.apply(lambda x: changeFeatureValues(x),axis=1)\n",
    "acoustic_plot=modifiedFullTrack['acousticness'].value_counts().plot.bar()\n",
    "acoustic_plot\n",
    "\n",
    "#modifiedFullTrack.head(50)"
   ]
  },
  {
   "cell_type": "code",
   "execution_count": 206,
   "metadata": {},
   "outputs": [
    {
     "data": {
      "text/plain": [
       "<matplotlib.axes._subplots.AxesSubplot at 0x155d7ddb748>"
      ]
     },
     "execution_count": 206,
     "metadata": {},
     "output_type": "execute_result"
    },
    {
     "data": {
      "image/png": "[encoded data removed]",
      "text/plain": [
       "<Figure size 432x288 with 1 Axes>"
      ]
     },
     "metadata": {
      "needs_background": "light"
     },
     "output_type": "display_data"
    }
   ],
   "source": [
    "\n",
    "dance_plot=modifiedFullTrack['danceability'].value_counts().plot.bar()\n",
    "dance_plot\n"
   ]
  },
  {
   "cell_type": "code",
   "execution_count": 211,
   "metadata": {},
   "outputs": [
    {
     "data": {
      "text/plain": [
       "<matplotlib.axes._subplots.AxesSubplot at 0x155d7e0b2b0>"
      ]
     },
     "execution_count": 211,
     "metadata": {},
     "output_type": "execute_result"
    },
    {
     "data": {
      "image/png": "[encoded data removed]",
      "text/plain": [
       "<Figure size 432x288 with 1 Axes>"
      ]
     },
     "metadata": {
      "needs_background": "light"
     },
     "output_type": "display_data"
    }
   ],
   "source": [
    "energy_plot=modifiedFullTrack['energy'].value_counts().plot.bar()\n",
    "energy_plot\n"
   ]
  },
  {
   "cell_type": "code",
   "execution_count": 210,
   "metadata": {},
   "outputs": [
    {
     "data": {
      "text/plain": [
       "<matplotlib.axes._subplots.AxesSubplot at 0x155d7e4cba8>"
      ]
     },
     "execution_count": 210,
     "metadata": {},
     "output_type": "execute_result"
    },
    {
     "data": {
      "image/png": "[encoded data removed]",
      "text/plain": [
       "<Figure size 432x288 with 1 Axes>"
      ]
     },
     "metadata": {
      "needs_background": "light"
     },
     "output_type": "display_data"
    }
   ],
   "source": [
    "\n",
    "speech_plot=modifiedFullTrack['speechiness'].value_counts().plot.bar()\n",
    "speech_plot\n"
   ]
  },
  {
   "cell_type": "code",
   "execution_count": 209,
   "metadata": {},
   "outputs": [
    {
     "data": {
      "text/plain": [
       "<matplotlib.axes._subplots.AxesSubplot at 0x155d7dfb128>"
      ]
     },
     "execution_count": 209,
     "metadata": {},
     "output_type": "execute_result"
    },
    {
     "data": {
      "image/png": "[encoded data removed]",
      "text/plain": [
       "<Figure size 432x288 with 1 Axes>"
      ]
     },
     "metadata": {
      "needs_background": "light"
     },
     "output_type": "display_data"
    }
   ],
   "source": [
    "\n",
    "valence_plot=modifiedFullTrack['valence'].value_counts().plot.bar()\n",
    "valence_plot\n"
   ]
  },
  {
   "cell_type": "code",
   "execution_count": 208,
   "metadata": {},
   "outputs": [
    {
     "data": {
      "text/plain": [
       "<matplotlib.axes._subplots.AxesSubplot at 0x155d79479e8>"
      ]
     },
     "execution_count": 208,
     "metadata": {},
     "output_type": "execute_result"
    },
    {
     "data": {
      "image/png": "[encoded data removed]",
      "text/plain": [
       "<Figure size 432x288 with 1 Axes>"
      ]
     },
     "metadata": {
      "needs_background": "light"
     },
     "output_type": "display_data"
    }
   ],
   "source": [
    "\n",
    "instrum_plot=modifiedFullTrack['instrumentalness'].value_counts().plot.bar()\n",
    "instrum_plot\n"
   ]
  },
  {
   "cell_type": "code",
   "execution_count": 207,
   "metadata": {},
   "outputs": [
    {
     "data": {
      "text/plain": [
       "<matplotlib.axes._subplots.AxesSubplot at 0x155d7e1ae48>"
      ]
     },
     "execution_count": 207,
     "metadata": {},
     "output_type": "execute_result"
    },
    {
     "data": {
      "image/png": "[encoded data removed]",
      "text/plain": [
       "<Figure size 432x288 with 1 Axes>"
      ]
     },
     "metadata": {
      "needs_background": "light"
     },
     "output_type": "display_data"
    }
   ],
   "source": [
    "live_plot=modifiedFullTrack['liveness'].value_counts().plot.bar()\n",
    "live_plot"
   ]
  },
  {
   "cell_type": "code",
   "execution_count": null,
   "metadata": {},
   "outputs": [],
   "source": []
  }
 ],
 "metadata": {
  "file_extension": ".py",
  "kernelspec": {
   "display_name": "Python 3",
   "language": "python",
   "name": "python3"
  },
  "language_info": {
   "codemirror_mode": {
    "name": "ipython",
    "version": 3
   },
   "file_extension": ".py",
   "mimetype": "text/x-python",
   "name": "python",
   "nbconvert_exporter": "python",
   "pygments_lexer": "ipython3",
   "version": "3.7.3"
  },
  "mimetype": "text/x-python",
  "name": "python",
  "npconvert_exporter": "python",
  "pygments_lexer": "ipython3",
  "version": 3
 },
 "nbformat": 4,
 "nbformat_minor": 2
}
