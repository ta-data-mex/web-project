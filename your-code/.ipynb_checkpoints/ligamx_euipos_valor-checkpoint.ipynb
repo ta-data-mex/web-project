{
 "cells": [
  {
   "cell_type": "code",
   "execution_count": 1,
   "metadata": {},
   "outputs": [],
   "source": [
    "import requests as r\n",
    "import json\n",
    "import pandas as pd\n",
    "import numpy as np\n",
    "from bs4 import BeautifulSoup as bs4\n",
    "\n",
    "url = \"https://www.transfermarkt.com/liga-mx-apertura/startseite/wettbewerb/MEXA/plus/?saison_id=2010\"\n",
    "\n",
    "header = {'User-Agent': 'Mozilla/5.0 (X11; Linux x86_64) AppleWebKit/537.36 (KHTML, like Gecko) Chrome/77.0.3865.120 Safari/537.36'}\n",
    "\n",
    "response = r.get(url, headers=header)"
   ]
  },
  {
   "cell_type": "code",
   "execution_count": 2,
   "metadata": {},
   "outputs": [],
   "source": [
    "cont = r.get(url, headers = header).text\n",
    "t = pd.read_html(cont, attrs = {'class': 'items'})[0]"
   ]
  },
  {
   "cell_type": "code",
   "execution_count": 3,
   "metadata": {},
   "outputs": [],
   "source": [
    "t.drop(columns=['Club', 'Club.1', 'Players playing abroad', 'name.1', 'Total MV', 'ø MV'], inplace= True)\n",
    "t.rename({'name':'Club', 'Squad':'Edad Promedio Jugador', 'ø age':'Jugadores Extranjeros', 'Total market value':'Valor Promedio de Jugador(€)', 'ø market value':'Valor Equipo(€)'}, axis = 1, inplace = True)"
   ]
  },
  {
   "cell_type": "code",
   "execution_count": 4,
   "metadata": {},
   "outputs": [],
   "source": [
    "t.index = np.arange(1,len(t)+1)\n",
    "df_list = []"
   ]
  },
  {
   "cell_type": "code",
   "execution_count": 5,
   "metadata": {},
   "outputs": [
    {
     "name": "stdout",
     "output_type": "stream",
     "text": [
      "Temporada 2010 Done!\n",
      "Temporada 2011 Done!\n",
      "Temporada 2012 Done!\n",
      "Temporada 2013 Done!\n",
      "Temporada 2014 Done!\n",
      "Temporada 2015 Done!\n",
      "Temporada 2016 Done!\n",
      "Temporada 2017 Done!\n",
      "Temporada 2018 Done!\n",
      "Temporada 2019 Done!\n"
     ]
    }
   ],
   "source": [
    "for i in range(10, 20):\n",
    "    cont = r.get(f\"https://www.transfermarkt.com/liga-mx-apertura/startseite/wettbewerb/MEXA/plus/?saison_id=20{i}\", headers = header).content\n",
    "    t = pd.read_html(cont, attrs = {'class': 'items'})[0]\n",
    "    t.drop(columns=['Club', 'Club.1', 'Players playing abroad', 'name.1', 'Total MV', 'ø MV'], inplace= True)\n",
    "    t.rename({'name':'Club', 'Squad':'Edad Promedio Jugador', 'ø age':'Jugadores Extranjeros', 'Total market value':'Valor Promedio de Jugador(€)', 'ø market value':'Valor Equipo(€)'}, axis = 1, inplace = True)\n",
    "    t.index = np.arange(1,len(t)+1)\n",
    "    df_list.append(t)\n",
    "    print(f'Temporada 20{i} Done!')"
   ]
  },
  {
   "cell_type": "code",
   "execution_count": 6,
   "metadata": {},
   "outputs": [
    {
     "name": "stdout",
     "output_type": "stream",
     "text": [
      "[+] Excel Generado!\n"
     ]
    }
   ],
   "source": [
    "with pd.ExcelWriter('Valores_Equipos_LigaMX.xlsx') as writer:\n",
    "    temp = 2010\n",
    "    for df in df_list:\n",
    "        df.to_excel(writer, sheet_name=f'Temp {temp}')\n",
    "        temp += 1\n",
    "        \n",
    "print(\"[+] Excel Generado!\")"
   ]
  },
  {
   "cell_type": "code",
   "execution_count": null,
   "metadata": {},
   "outputs": [],
   "source": []
  }
 ],
 "metadata": {
  "kernelspec": {
   "display_name": "Python 3",
   "language": "python",
   "name": "python3"
  },
  "language_info": {
   "codemirror_mode": {
    "name": "ipython",
    "version": 3
   },
   "file_extension": ".py",
   "mimetype": "text/x-python",
   "name": "python",
   "nbconvert_exporter": "python",
   "pygments_lexer": "ipython3",
   "version": "3.7.3"
  }
 },
 "nbformat": 4,
 "nbformat_minor": 2
}
