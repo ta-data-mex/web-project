{
 "cells": [
  {
   "cell_type": "code",
   "execution_count": 1,
   "metadata": {},
   "outputs": [],
   "source": [
    "import pandas as pd \n",
    "import requests\n",
    "from bs4 import BeautifulSoup"
   ]
  },
  {
   "cell_type": "code",
   "execution_count": 2,
   "metadata": {},
   "outputs": [],
   "source": [
    "#Realicé un webscraping de la página de la Cineteca nacional.\n",
    "#Para obtener la cartelera del día de hoy, así como la información de cada película. "
   ]
  },
  {
   "cell_type": "code",
   "execution_count": 3,
   "metadata": {},
   "outputs": [
    {
     "data": {
      "text/plain": [
       "<!DOCTYPE html>\n",
       "<html>\n",
       "<head>\n",
       "<title>Cineteca Nacional MEXICO</title>\n",
       "<meta content=\"text/html; charset=utf-8\" http-equiv=\"Content-Type\"/>\n",
       "<link href=\"https://www.cinetecanacional.net/css/general.css\" rel=\"stylesheet\" type=\"text/css\"/>\n",
       "<link href=\"https://www.cinetecanacional.net/css/mosaico.css\" rel=\"stylesheet\" type=\"text/css\"/>\n",
       "<link href=\"https://www.cinetecanacional.net/css/cartelera.css\" rel=\"stylesheet\" type=\"text/css\"/>\n",
       "<link href=\"https://www.cinetecanacional.net/css/style.css\" rel=\"stylesheet\" type=\"text/css\"/>\n",
       "<link href=\"imagenes/custom-180.png\" rel=\"apple-touch-icon\" sizes=\"152x152\"/>\n",
       "<link href=\"imagenes/custom-167.png\" rel=\"apple-touch-icon\" sizes=\"180x180\"/>\n",
       "<link href=\"imagenes/custom-152.png\" rel=\"apple-touch-icon\" sizes=\"167x167\"/>\n",
       "<!--  UTILIZADO PARA EL BUSCADOR DE GOOGLE  \n",
       "    <link rel=\"stylesheet\" href=\"http://www.encuentra.gob.mx/css/apf.css\" type=\"text/css\">\n",
       "    <script src=\"http://www.encuentra.gob.mx/api/gobmxWidgetAPI-min.js\" type=\"text/javascript\"></script>\n",
       "    <script src=\"http://www.encuentra.gob.mx/properties/gobmxWidgetAPI-conf.js\" type=\"text/javascript\"></script>\n",
       "    -->\n",
       "<script src=\"https://www.cinetecanacional.net/sliderengine/jquery_.js\"></script>\n",
       "<script src=\"https://www.cinetecanacional.net/sliderengine/amazingslider.js\"></script>\n",
       "<script src=\"https://www.cinetecanacional.net/sliderengine/initslider-1.js\"></script>\n",
       "<script src=\"https://www.cinetecanacional.net/js/funcionesHome.js\"></script>\n",
       "<script src=\"https://www.cinetecanacional.net/js/jquery.tinyscrollbar.min.js\"></script>\n",
       "<script src=\"https://www.cinetecanacional.net/js/tinybox.js\"></script>\n",
       "<link href=\"https://www.cinetecanacional.net/css/calendar-green.css\" media=\"all\" rel=\"stylesheet\" title=\"blue\" type=\"text/css\"/>\n",
       "<script src=\"https://www.cinetecanacional.net/js/calendar.js\"></script>\n",
       "<script src=\"https://www.cinetecanacional.net/js/jscalendar/lang/calendar-es.js\"></script>\n",
       "<script src=\"https://www.cinetecanacional.net/js/jscalendar/calendar-setup.js\"></script>\n",
       "<link href=\"https://www.cinetecanacional.net/css/carrusel/carrusel_2.css\" rel=\"stylesheet\" type=\"text/css\"/>\n",
       "<script src=\"https://www.cinetecanacional.net/js/jquery/js/1.8/jquery-ui-1.8.2.custom.min.js\"></script>\n",
       "<link href=\"https://www.cinetecanacional.net/css/scroll/scroll2.css\" media=\"screen\" rel=\"stylesheet\" type=\"text/css\"/>\n",
       "<script src=\"https://www.cinetecanacional.net/js/cineteca.js\"></script>\n",
       "<script src=\"../podcast/js/jwplayer/jwplayer.js\"></script>\n",
       "<!-- MANEJO DE GOOGLE ANALYTICS -->\n",
       "<script>\n",
       "\n",
       "        var _gaq = _gaq || [];\n",
       "        _gaq.push(['_setAccount', 'UA-10776450-1']);\n",
       "        _gaq.push(['_trackPageview']);\n",
       "\n",
       "        (function() {\n",
       "          var ga = document.createElement('script'); ga.type = 'text/javascript'; ga.async = true;\n",
       "          ga.src = ('https:' == document.location.protocol ? 'https://ssl' : 'http://www') + '.google-analytics.com/ga.js';\n",
       "          var s = document.getElementsByTagName('script')[0]; s.parentNode.insertBefore(ga, s);\n",
       "        })();\n",
       "\n",
       "    </script>\n",
       "</head>\n",
       "<body>\n",
       "<div id=\"principalContainer\">\n",
       "<div id=\"encabezado\">\n",
       "<div class=\"alignRightMenu\" id=\"menu-Head\">\n",
       "<a class=\"linkmenu\" href=\"https://www.cinetecanacional.net/\">Inicio</a> | \n",
       "                <a class=\"linkmenu\" onclick=\"location.href='https://www.cinetecanacional.net/controlador.php?opcion=FAQ'\">Preguntas Frecuentes</a> | \n",
       "                <a class=\"linkmenu\" href=\"#\" onclick=\"location.href='https://www.cinetecanacional.net/movil'\">Versión Movil</a>\n",
       "</div>\n",
       "<div id=\"logos\">\n",
       "<div class=\"inline\" id=\"conacultaCineteca\"> <!-- width=\"228\" height=\"72\"  -->\n",
       "<img alt=\"Cineteca Nacional\" onclick=\"location.href='https://www.cinetecanacional.net/'\" src=\"https://www.cinetecanacional.net/imagenes/encabezado/CulturaCineteca.png\"/>\n",
       "</div>\n",
       "<div id=\"socialSerch\">\n",
       "<div class=\"inline\" id=\"social\" style=\"margin-top: 25px;\">\n",
       "<img alt=\"Síguenos en Facebook\" class=\"linkImage\" onclick=\"window.open('http://www.facebook.com/CinetecaMexico','_blank');\" src=\"https://www.cinetecanacional.net/imagenes/encabezado/facebook.png\"/>\n",
       "<img alt=\"Síguenos en Twitter\" class=\"linkImage\" onclick=\"window.open('http://twitter.com/CinetecaMexico','_blank');\" src=\"https://www.cinetecanacional.net/imagenes/encabezado/twitter.png\"/>\n",
       "<img alt=\"Síguenos en YouTube\" class=\"linkImage\" onclick=\"window.open('http://www.youtube.com/user/cinetecanacional2','_blank');\" src=\"https://www.cinetecanacional.net/imagenes/encabezado/youtube.png\"/>\n",
       "<!--<img src=\"https://www.cinetecanacional.net/imagenes/encabezado/tumblr.png\" class='linkImage' alt=\"S&iacute;guenos en Tumblr\" onClick=\"window.open('http://cinetecanacional.tumblr.com/','_blank');\">-->\n",
       "<img alt=\"Síguenos en Instagram\" class=\"linkImage\" onclick=\"window.open('http://instagram.com/cinetecanacionalmx','_blank');\" src=\"https://www.cinetecanacional.net/imagenes/encabezado/instagram.png\"/>\n",
       "<!--<img src=\"https://www.cinetecanacional.net/imagenes/encabezado/issuu.png\" class='linkImage' alt=\"Leenos en Issuu\" onClick=\"window.open('http://issuu.com/cinetecanacional','_blank');\"/>\n",
       "                        <img src=\"https://www.cinetecanacional.net/imagenes/encabezado/soundclound.png\" alt=\"escuchanos en Soundcloud\" class='linkImage' onClick=\"window.open('https://soundcloud.com/cineteca-nacional-m-xico','_blank');\"/>-->\n",
       "<img alt=\"Escuchanos en Spotify\" class=\"linkImage\" onclick=\"window.open('https://play.spotify.com/user/cinetecanacional','_blank');\" src=\"https://www.cinetecanacional.net/imagenes/encabezado/spotify.png\"/>\n",
       "</div>\n",
       "<div style=\"float: right;background-color: #f1f1f1; margin-top:10px; padding-top: 2px; box-shadow: inset 0px 2px 3px rgba(255,255,255,0.8), 1px 1px 3px rgba(245,245,245,0.2); width:265px; \">\n",
       "<script>\n",
       "\t\t\t\t\t\t  (function() {\n",
       "\t\t\t\t\t\t    var cx = '004631619122437465183:vdzftejr41s';\n",
       "\t\t\t\t\t\t    var gcse = document.createElement('script');\n",
       "\t\t\t\t\t\t    gcse.type = 'text/javascript';\n",
       "\t\t\t\t\t\t    gcse.async = true;\n",
       "\t\t\t\t\t\t    gcse.src = (document.location.protocol == 'https:' ? 'https:' : 'http:') +\n",
       "\t\t\t\t\t\t        '//www.google.com/cse/cse.js?cx=' + cx;\n",
       "\t\t\t\t\t\t    var s = document.getElementsByTagName('script')[0];\n",
       "\t\t\t\t\t\t    s.parentNode.insertBefore(gcse, s);\n",
       "\t\t\t\t\t\t  })();\n",
       "\t\t\t\t\t\t</script>\n",
       "<gcse:search></gcse:search>\n",
       "</div>\n",
       "<!-- <div id=\"gobmx-searchbox-container-ficine\">\n",
       "                        <script type=\"text/javascript\">_gmx.loadGobMXsearchAPI({container:'gobmx-searchbox-container-ficine',client:'ficine',newWindow:true});</script>\n",
       "                    </div> -->\n",
       "</div>\n",
       "</div>\n",
       "</div>\n",
       "<div id=\"menu\">\n",
       "<div class=\"inline opcionMenu color1\" id=\"menuQuienes\"><span class=\"etiquetaMenu\">Quiénes somos</span>\n",
       "<div class=\"color1 subMenu\" id=\"submenuQuienes\">\n",
       "<ul class=\"subMenulista\">\n",
       "<li><a onclick=\"location.href='controlador.php?opcion=contexto'\">Información</a></li>\n",
       "<li><a onclick=\"location.href='controlador.php?opcion=directorio'\">Directorio</a></li>\n",
       "<li><a onclick=\"location.href='controlador.php?opcion=UBIC'\">Ubicación y costos</a></li>\n",
       "<li><a onclick=\"location.href='controlador.php?opcion=contacto'\">Contacto</a></li>\n",
       "</ul>\n",
       "</div>\n",
       "</div>\n",
       "<div class=\"inline opcionMenu color2\" id=\"menuCartelera\"><div onclick=\"location.href='controlador.php?opcion=carteleraDia'\"><span class=\"etiquetaMenu\">Cartelera</span></div>\n",
       "<div class=\"color2 subMenu\" id=\"submenuCartelera\">\n",
       "<ul class=\"subMenulista\">\n",
       "<li><a onclick=\"location.href='controlador.php?opcion=muestra'\">Muestra</a></li>\n",
       "<li><a onclick=\"location.href='controlador.php?opcion=foro'\">Foro</a></li>\n",
       "<li><a onclick=\"location.href='controlador.php?opcion=talento'\">Talento Emergente</a></li>\n",
       "<li><a onclick=\"location.href='controlador.php?opcion=circuito_cineteca'\">Circuito Cineteca</a></li>\n",
       "</ul>\n",
       "</div></div>\n",
       "<div class=\"inline opcionMenu color3\" id=\"menuAcervos\"><div><span class=\"etiquetaMenu\">Preservación</span></div>\n",
       "<div class=\"color3 subMenu\" id=\"submenuAcervos\">\n",
       "<ul class=\"subMenulista\">\n",
       "<li><a onclick=\"location.href='controlador.php?opcion=acervo'\">Información</a></li>\n",
       "<li><a onclick=\"location.href='controlador.php?opcion=laboratoriodigital'\">Lab. Restauración Digital</a></li>\n",
       "<li><a onclick=\"location.href='https://www.youtube.com/playlist?list=PLDl6JsaBKpPlMYlI1YkXTSAYvVt2CxMy2'\" target=\"_blank\">Miradas al Acervo</a></li>\n",
       "</ul>\n",
       "</div>\n",
       "</div>\n",
       "<div class=\"inline opcionMenu color4\" id=\"menuDocumentacion\"><span class=\"etiquetaMenu\">Servicios de Consulta</span>\n",
       "<div class=\"color4 subMenu2\" id=\"submenuDocumentacion\">\n",
       "<ul class=\"subMenulista\">\n",
       "<li><a onclick=\"location.href='controlador.php?opcion=CDOC'\">Centro de Documentación</a></li>\n",
       "<li><a onclick=\"location.href='controlador.php?opcion=CDI'\">Novedades</a></li>\n",
       "<li><a onclick=\"location.href='controlador.php?opcion=VDIG'\">Videoteca Digital</a></li>\n",
       "<li><a onclick=\"location.href='controlador.php?opcion=historicoPeliculas'\">Buscador de películas exhibidas</a></li>\n",
       "</ul>\n",
       "</div>\n",
       "</div>\n",
       "<div class=\"inline opcionMenu color5\" id=\"menuPublicaciones\"><span class=\"etiquetaMenu\">Prensa</span>\n",
       "<div class=\"color5 subMenu\" id=\"submenuPublicaciones\">\n",
       "<ul class=\"subMenulista\">\n",
       "<li><a onclick=\"location.href='controlador.php?opcion=noticias'\">Noticias</a></li>\n",
       "<li><a onclick=\"location.href='controlador.php?opcion=medallaST'\">Medalla Salvador Toscano</a></li>\n",
       "<li><a onclick=\"location.href='controlador.php?opcion=medallaCN'\">Medalla Cineteca</a></li>\n",
       "</ul>\n",
       "</div>\n",
       "</div>\n",
       "<div class=\"inline opcionMenu color6\" id=\"menuExhibicion\"><span class=\"etiquetaMenu\">Extensión Académica</span>\n",
       "<div class=\"color6 subMenu2\" id=\"submenuExhibicion\">\n",
       "<ul class=\"subMenulista\">\n",
       "<li><a onclick=\"location.href='controlador.php?opcion=extension_academica'\">Actividades</a></li>\n",
       "<li><a onclick=\"location.href='controlador.php?opcion=CONV'\">Convocatorias</a></li>\n",
       "<li><a onclick=\"location.href='controlador.php?opcion=SPEA'\">Seminario Experiencias de Archivo</a></li>\n",
       "<li><a onclick=\"location.href='controlador.php?opcion=cursosEnlinea'\">Cursos en Línea</a></li>\n",
       "</ul>\n",
       "</div>\n",
       "</div>\n",
       "<div class=\"inline opcionMenu color7\" id=\"menuTransparencia\"><div onclick=\"location.href='controlador.php?opcion=5'\"><span class=\"etiquetaMenu\">Transparencia</span></div>\n",
       "<div class=\"color7 subMenu\" id=\"submenuTransparencia\">\n",
       "<ul class=\"subMenulista\">\n",
       "<li><a onclick=\"location.href='controlador.php?opcion=1'\">Normatividad en transparencia</a></li>\n",
       "<li><a onclick=\"location.href='controlador.php?opcion=2'\">Acceso a la Informaci&amp;oacuten</a></li>\n",
       "<li><a onclick=\"location.href='controlador.php?opcion=obligaciones'\">Obligaciones de transparencia</a></li>\n",
       "<li><a onclick=\"location.href='controlador.php?opcion=3'\">Transparencia Proactiva</a></li>\n",
       "<li><a onclick=\"location.href='controlador.php?opcion=9'\">Participación Ciudadana</a></li>\n",
       "<li><a onclick=\"location.href='controlador.php?opcion=indicadores'\">Indicadores de Programas Presupuestarios</a></li>\n",
       "<li><a onclick=\"location.href='controlador.php?opcion=4'\">Recomendaciones</a></li>\n",
       "<li><a onclick=\"location.href='controlador.php?opcion=6'\">Estudios financiados con recursos públicos</a></li>\n",
       "<li><a onclick=\"location.href='controlador.php?opcion=8'\">Planes, programas e informes</a></li>\n",
       "</ul>\n",
       "</div>\n",
       "</div>\n",
       "</div>\n",
       "<div class=\"space20\"></div>\n",
       "<div id=\"mas_fechas\"> <div style=\"float:left;padding:0.1em;\">\n",
       "<p>\n",
       "<span class=\"bold\" style=\"font-size:18pt;\">Calendario</span>   \n",
       "                <span style=\"font-size:11pt; font-weight: bold;\">julio</span>   <a class=\"colorB\" href=\"controlador.php?opcion=carteleraDia&amp;dia=2019-07-21\" title=\"Ver programación del 21 de julio del 2019\">21</a> \n",
       "<a class=\"colorB\" href=\"controlador.php?opcion=carteleraDia&amp;dia=2019-07-22\" title=\"Ver programación del 22 de julio del 2019\">22</a> \n",
       "<a class=\"colorB\" href=\"controlador.php?opcion=carteleraDia&amp;dia=2019-07-23\" title=\"Ver programación del 23 de julio del 2019\">23</a> \n",
       "<a class=\"colorB\" href=\"controlador.php?opcion=carteleraDia&amp;dia=2019-07-24\" title=\"Ver programación del 24 de julio del 2019\">24</a> \n",
       "<a class=\"colorB\" href=\"controlador.php?opcion=carteleraDia&amp;dia=2019-07-25\" title=\"Ver programación del 25 de julio del 2019\">25</a> \n",
       "<a class=\"colorB\" href=\"controlador.php?opcion=carteleraDia&amp;dia=2019-07-26\" title=\"Ver programación del 26 de julio del 2019\">26</a> \n",
       "<a class=\"colorB\" href=\"controlador.php?opcion=carteleraDia&amp;dia=2019-07-27\" title=\"Ver programación del 27 de julio del 2019\">27</a> \n",
       "<a class=\"colorB\" href=\"controlador.php?opcion=carteleraDia&amp;dia=2019-07-28\" title=\"Ver programación del 28 de julio del 2019\">28</a> \n",
       "<a class=\"colorB\" href=\"controlador.php?opcion=carteleraDia&amp;dia=2019-07-29\" title=\"Ver programación del 29 de julio del 2019\">29</a> \n",
       "</p><p></p></div> </div>\n",
       "<br/>\n",
       "<br/>\n",
       "<div class=\"tituloLargo color4\" id=\"plecaTituloSeccion\">Programación. Domingo 21 de julio de 2019</div>\n",
       "<div style=\"width: 100%;\">\n",
       "<div class=\"recomienda\"> <div class=\"titulo_seccion\"><span class=\"titulo_seccion_b\">CICLOS EN EXHIBICIÓN</span></div><ul class=\"noticias\"><li><a href=\"/php/cartelera_ciclos.php?ClvCic=2326\">El cine que no se olvida</a></li><li><a href=\"/php/cartelera_ciclos.php?ClvCic=2172\">Matiné infantil</a></li><li><a href=\"/php/cartelera_ciclos.php?ClvCic=2329\">Muestra de Cine Nórdico </a></li><li><a href=\"/php/cartelera_ciclos.php?ClvCic=2327\">Retrospectiva Billy Wilder </a></li></ul><div class=\"titulo_seccion\"><span class=\"titulo_seccion_b\">ACTIVIDADES ACADÉMICAS</span></div><ul class=\"noticias\"><li><a href=\"/php/detallePelicula.php?clv=15880\">Ciclo Charlas de cine y literatura: Historias cortas</a></li><li><a href=\"/php/detallePelicula.php?clv=15635\">Conversando con nuestros cineastas 2019</a></li></ul><div class=\"titulo_seccion\"><span class=\"titulo_seccion_b\">PELÍCULAS EN CARTELERA</span></div><ul class=\"noticias\"><li><a href=\"/php/detallePelicula.php?clv=16682\">¡Qué viva Tepito!</a></li><li><a href=\"/php/detallePelicula.php?clv=16635\">¿Qué harás cuando el mundo esté en llamas?</a></li><li><a href=\"/php/detallePelicula.php?clv=16653\">Anorí</a></li><li><a href=\"/php/detallePelicula.php?clv=15880\">Ciclo Charlas de cine y literatura: Historias cortas</a></li><li><a href=\"/php/detallePelicula.php?clv=16639\">Chicuarotes</a></li><li><a href=\"/php/detallePelicula.php?clv=16663\">Cinco tumbas en El Cairo</a></li><li><a href=\"/php/detallePelicula.php?clv=16651\">Ciudad natal. Historias de un siglo</a></li><li><a href=\"/php/detallePelicula.php?clv=15635\">Conversando con nuestros cineastas 2019</a></li><li><a href=\"/php/detallePelicula.php?clv=16661\">Dolor y gloria</a></li><li><a href=\"/php/detallePelicula.php?clv=16680\">El cuento de las comadrejas</a></li><li><a href=\"/php/detallePelicula.php?clv=16239\">El libro de imágenes</a></li><li><a href=\"/php/detallePelicula.php?clv=16662\">El mayor y la menor</a></li><li><a href=\"/php/detallePelicula.php?clv=16632\">El misterio de Silver Lake</a></li><li><a href=\"/php/detallePelicula.php?clv=16566\">El peluquero romántico</a></li><li><a href=\"/php/detallePelicula.php?clv=15501\">El remolino</a></li><li><a href=\"/php/detallePelicula.php?clv=16636\">El sindicato San Bernardo</a></li><li><a href=\"/php/detallePelicula.php?clv=16676\">El vals del emperador</a></li><li><a href=\"/php/detallePelicula.php?clv=15992\">En tránsito</a></li><li><a href=\"/php/detallePelicula.php?clv=16567\">Fausto</a></li><li><a href=\"/php/detallePelicula.php?clv=14176\">Hoy quiero volver solo</a></li><li><a href=\"/php/detallePelicula.php?clv=16404\">Jamás llegarán a viejos</a></li><li><a href=\"/php/detallePelicula.php?clv=16624\">La última locura de la señora Darling</a></li><li><a href=\"/php/detallePelicula.php?clv=16641\">Las hijas del sol</a></li><li><a href=\"/php/detallePelicula.php?clv=16395\">Leto</a></li><li><a href=\"/php/detallePelicula.php?clv=16574\">Los truenos de San Juan</a></li><li><a href=\"/php/detallePelicula.php?clv=16642\">Luna Mortis</a></li><li><a href=\"/php/detallePelicula.php?clv=15938\">Lxs chicxs salvajes</a></li><li><a href=\"/php/detallePelicula.php?clv=16594\">Malintzin, la historia de un enigma</a></li><li><a href=\"/php/detallePelicula.php?clv=15514\">Margarita</a></li><li><a href=\"/php/detallePelicula.php?clv=1333\">María de mi corazón</a></li><li><a href=\"/php/detallePelicula.php?clv=16638\">Mujer en guerra</a></li><li><a href=\"/php/detallePelicula.php?clv=16399\">Plaza París</a></li><li><a href=\"/php/detallePelicula.php?clv=1602\">Retrato de una mujer casada</a></li><li><a href=\"/php/detallePelicula.php?clv=15166\">Sangre Sámi</a></li><li><a href=\"/php/detallePelicula.php?clv=16634\">Toy Story 4</a></li><li><a href=\"/php/detallePelicula.php?clv=16233\">Tres rostros</a></li><li><a href=\"/php/detallePelicula.php?clv=16402\">Ven y mira</a></li><li><a href=\"/php/detallePelicula.php?clv=16557\">Vivir deprisa, amar despacio</a></li></ul> </div>\n",
       "</div>\n",
       "<div style=\"clear:both\"></div>\n",
       "<div id=\"pie\">\n",
       "<div id=\"pie_b\"> </div>\n",
       "<p>\n",
       "              Av. México Coyoacán #389 Col. Xoco Del. Benito Juárez Mexico D.F. C.P 03330 - Tel conmutador: +52 (55)4155 1200.  Cartelera telefónica: 4155 1190 <br/><br/>\n",
       "<a href=\"controlador.php?opcion=contacto\" target=\"_parent\">Buzón de Quejas y Sugerencias</a>\n",
       "<a href=\"controlador.php?opcion=contacto\" target=\"_parent\">\n",
       "<img alt=\"Comentarios y Sugerencias sobre éste sitio de Internet\" border=\"0\" height=\"10\" src=\"https://www.cinetecanacional.net/imagenes/pie//contacto_webmaster.png\" width=\"14\"/>\n",
       "</a>\n",
       "</p>\n",
       "<p>\n",
       "             FIDEICOMISO PARA LA CINETECA NACIONAL - ALGUNOS DERECHOS RESERVADOS © 2019 - <a href=\"https://www.cinetecanacional.net/controlador.php?opcion=politicas\">POLÍTICAS DE PRIVACIDAD</a>\n",
       "</p>\n",
       "<div id=\"pie_d\"> </div>\n",
       "</div>\n",
       "</div>\n",
       "</body></html>"
      ]
     },
     "execution_count": 3,
     "metadata": {},
     "output_type": "execute_result"
    }
   ],
   "source": [
    "#Empezamos obteniendo el código html \n",
    "url2 = 'https://www.cinetecanacional.net/controlador.php?opcion=carteleraDia'\n",
    "cine_link = requests.get(url2).content\n",
    "cine_soup = BeautifulSoup(cine_link, 'html')\n",
    "cine_soup"
   ]
  },
  {
   "cell_type": "code",
   "execution_count": 4,
   "metadata": {},
   "outputs": [
    {
     "data": {
      "text/plain": [
       "[]"
      ]
     },
     "execution_count": 4,
     "metadata": {},
     "output_type": "execute_result"
    }
   ],
   "source": [
    "#Las películas que tenemos actualmente en la Cineteca Nacional son:\n",
    "cine_table = cine_soup.find_all('p',{'class':'peliculaTitulo'})\n",
    "cine_total = [item.text for item in cine_table]\n",
    "cine_total"
   ]
  },
  {
   "cell_type": "code",
   "execution_count": 5,
   "metadata": {},
   "outputs": [
    {
     "data": {
      "text/html": [
       "<div>\n",
       "<style scoped>\n",
       "    .dataframe tbody tr th:only-of-type {\n",
       "        vertical-align: middle;\n",
       "    }\n",
       "\n",
       "    .dataframe tbody tr th {\n",
       "        vertical-align: top;\n",
       "    }\n",
       "\n",
       "    .dataframe thead th {\n",
       "        text-align: right;\n",
       "    }\n",
       "</style>\n",
       "<table border=\"1\" class=\"dataframe\">\n",
       "  <thead>\n",
       "    <tr style=\"text-align: right;\">\n",
       "      <th></th>\n",
       "      <th>Película</th>\n",
       "    </tr>\n",
       "  </thead>\n",
       "  <tbody>\n",
       "  </tbody>\n",
       "</table>\n",
       "</div>"
      ],
      "text/plain": [
       "Empty DataFrame\n",
       "Columns: [Película]\n",
       "Index: []"
      ]
     },
     "execution_count": 5,
     "metadata": {},
     "output_type": "execute_result"
    }
   ],
   "source": [
    "#Ahora en bonito en un DataFrame \n",
    "df_pelis = pd.DataFrame(cine_total, columns= ['Película'])\n",
    "df_pelis"
   ]
  },
  {
   "cell_type": "code",
   "execution_count": 6,
   "metadata": {},
   "outputs": [
    {
     "data": {
      "text/plain": [
       "[]"
      ]
     },
     "execution_count": 6,
     "metadata": {},
     "output_type": "execute_result"
    }
   ],
   "source": [
    "#Ahora obtenemos la minificha de cada película. \n",
    "#Tenemos la informacíon del director de cada película, el país de origen, el año y la duración. \n",
    "#Aplicamos un find_all  con BeautifulSoup para obtener todo lo referente a la clase 'peliculaMiniFicha'\n",
    "mini_table = cine_soup.find_all('p',{'class':'peliculaMiniFicha'})\n",
    "mini_total = [item.text.replace('\\r\\n', '') for item in mini_table]\n",
    "mini_total"
   ]
  },
  {
   "cell_type": "code",
   "execution_count": 7,
   "metadata": {},
   "outputs": [
    {
     "data": {
      "text/plain": [
       "[]"
      ]
     },
     "execution_count": 7,
     "metadata": {},
     "output_type": "execute_result"
    }
   ],
   "source": [
    "#Hacemos el split para que nos separe todo eso por comas \n",
    "mini_total2 = [item.split(',') for item in mini_total]\n",
    "mini_total2"
   ]
  },
  {
   "cell_type": "code",
   "execution_count": 8,
   "metadata": {},
   "outputs": [],
   "source": [
    "#uno = mini_total[0].strip()\n",
    "#uno_s= uno.split(',')\n",
    "#uno_s"
   ]
  },
  {
   "cell_type": "code",
   "execution_count": 9,
   "metadata": {},
   "outputs": [
    {
     "data": {
      "text/html": [
       "<div>\n",
       "<style scoped>\n",
       "    .dataframe tbody tr th:only-of-type {\n",
       "        vertical-align: middle;\n",
       "    }\n",
       "\n",
       "    .dataframe tbody tr th {\n",
       "        vertical-align: top;\n",
       "    }\n",
       "\n",
       "    .dataframe thead th {\n",
       "        text-align: right;\n",
       "    }\n",
       "</style>\n",
       "<table border=\"1\" class=\"dataframe\">\n",
       "  <thead>\n",
       "    <tr style=\"text-align: right;\">\n",
       "      <th></th>\n",
       "      <th>Director</th>\n",
       "      <th>País</th>\n",
       "      <th>Año</th>\n",
       "      <th>Duración</th>\n",
       "      <th>0</th>\n",
       "      <th>1</th>\n",
       "    </tr>\n",
       "  </thead>\n",
       "  <tbody>\n",
       "  </tbody>\n",
       "</table>\n",
       "</div>"
      ],
      "text/plain": [
       "Empty DataFrame\n",
       "Columns: [Director, País, Año, Duración, 0, 1]\n",
       "Index: []"
      ]
     },
     "execution_count": 9,
     "metadata": {},
     "output_type": "execute_result"
    }
   ],
   "source": [
    "# Al momento de querer hacer el DataFrame me pedía agregar 2 columnas. \n",
    "#Había registros que no tenían solo 4 elementos, sino 6 por lo cuál las rellenaba con 'None'.\n",
    "\n",
    "mini_df3 = pd.DataFrame(mini_total2, columns = ['Director', 'País', 'Año', 'Duración','0', '1'])\n",
    "mini_df3"
   ]
  },
  {
   "cell_type": "code",
   "execution_count": 10,
   "metadata": {},
   "outputs": [
    {
     "data": {
      "text/plain": [
       "[]"
      ]
     },
     "execution_count": 10,
     "metadata": {},
     "output_type": "execute_result"
    }
   ],
   "source": [
    "#Tenemos \n",
    "mini_table = cine_soup.find_all('p',{'class':'peliculaMiniFicha'})\n",
    "mini_total = [item.text.replace('\\r\\n', '') for item in mini_table]\n",
    "mini_total"
   ]
  },
  {
   "cell_type": "code",
   "execution_count": 11,
   "metadata": {},
   "outputs": [
    {
     "data": {
      "text/html": [
       "<div>\n",
       "<style scoped>\n",
       "    .dataframe tbody tr th:only-of-type {\n",
       "        vertical-align: middle;\n",
       "    }\n",
       "\n",
       "    .dataframe tbody tr th {\n",
       "        vertical-align: top;\n",
       "    }\n",
       "\n",
       "    .dataframe thead th {\n",
       "        text-align: right;\n",
       "    }\n",
       "</style>\n",
       "<table border=\"1\" class=\"dataframe\">\n",
       "  <thead>\n",
       "    <tr style=\"text-align: right;\">\n",
       "      <th></th>\n",
       "      <th>Director</th>\n",
       "      <th>País</th>\n",
       "      <th>Año</th>\n",
       "      <th>Duración</th>\n",
       "    </tr>\n",
       "  </thead>\n",
       "  <tbody>\n",
       "  </tbody>\n",
       "</table>\n",
       "</div>"
      ],
      "text/plain": [
       "Empty DataFrame\n",
       "Columns: [Director, País, Año, Duración]\n",
       "Index: []"
      ]
     },
     "execution_count": 11,
     "metadata": {},
     "output_type": "execute_result"
    }
   ],
   "source": [
    "#Por lo que nadamás sacamos los últimos 4 elementos para que nos mostrara la información que necesitamos. \n",
    "#Aplicamos un 'for' para poder iterar columna por columna \n",
    "mini_total = [item.split(',') for item in mini_total]\n",
    "clean_total = [el[-4:] for el in mini_total]\n",
    "mini_df = pd.DataFrame(clean_total, columns = ['Director', 'País', 'Año', 'Duración'])\n",
    "mini_df\n"
   ]
  },
  {
   "cell_type": "code",
   "execution_count": 12,
   "metadata": {},
   "outputs": [
    {
     "data": {
      "text/html": [
       "<div>\n",
       "<style scoped>\n",
       "    .dataframe tbody tr th:only-of-type {\n",
       "        vertical-align: middle;\n",
       "    }\n",
       "\n",
       "    .dataframe tbody tr th {\n",
       "        vertical-align: top;\n",
       "    }\n",
       "\n",
       "    .dataframe thead th {\n",
       "        text-align: right;\n",
       "    }\n",
       "</style>\n",
       "<table border=\"1\" class=\"dataframe\">\n",
       "  <thead>\n",
       "    <tr style=\"text-align: right;\">\n",
       "      <th></th>\n",
       "      <th>Director</th>\n",
       "      <th>País</th>\n",
       "      <th>Año</th>\n",
       "      <th>Duración</th>\n",
       "    </tr>\n",
       "  </thead>\n",
       "  <tbody>\n",
       "  </tbody>\n",
       "</table>\n",
       "</div>"
      ],
      "text/plain": [
       "Empty DataFrame\n",
       "Columns: [Director, País, Año, Duración]\n",
       "Index: []"
      ]
     },
     "execution_count": 12,
     "metadata": {},
     "output_type": "execute_result"
    }
   ],
   "source": [
    "#Quitamos los caracteres que no necesitamos como '(' o ')' e imprimimos nuevamente\n",
    "mini_df['Director'] = mini_df['Director'].str.replace('(', '')\n",
    "mini_df['Duración'] = mini_df['Duración'].str.replace(')', '')\n",
    "mini_df['Duración'] = mini_df['Duración'].str.replace('s.', '')\n",
    "mini_df"
   ]
  },
  {
   "cell_type": "code",
   "execution_count": 13,
   "metadata": {},
   "outputs": [
    {
     "data": {
      "text/plain": [
       "[]"
      ]
     },
     "execution_count": 13,
     "metadata": {},
     "output_type": "execute_result"
    }
   ],
   "source": [
    "#Sacamos la información de la sinópsis de cada película \n",
    "sin_table = cine_soup.find_all('div',{'class':'peliculaImagenSinopsis peliculaSinopsis'})\n",
    "sin_total = [item.text.replace('\\r\\n', '') for item in sin_table]\n",
    "sin_total\n"
   ]
  },
  {
   "cell_type": "code",
   "execution_count": 14,
   "metadata": {},
   "outputs": [
    {
     "data": {
      "text/html": [
       "<div>\n",
       "<style scoped>\n",
       "    .dataframe tbody tr th:only-of-type {\n",
       "        vertical-align: middle;\n",
       "    }\n",
       "\n",
       "    .dataframe tbody tr th {\n",
       "        vertical-align: top;\n",
       "    }\n",
       "\n",
       "    .dataframe thead th {\n",
       "        text-align: right;\n",
       "    }\n",
       "</style>\n",
       "<table border=\"1\" class=\"dataframe\">\n",
       "  <thead>\n",
       "    <tr style=\"text-align: right;\">\n",
       "      <th></th>\n",
       "      <th>Sinópsis</th>\n",
       "    </tr>\n",
       "  </thead>\n",
       "  <tbody>\n",
       "  </tbody>\n",
       "</table>\n",
       "</div>"
      ],
      "text/plain": [
       "Empty DataFrame\n",
       "Columns: [Sinópsis]\n",
       "Index: []"
      ]
     },
     "execution_count": 14,
     "metadata": {},
     "output_type": "execute_result"
    }
   ],
   "source": [
    "#Hacemos el DataFrame \n",
    "sin_df = pd.DataFrame(sin_total, columns= ['Sinópsis'])\n",
    "sin_df['Sinópsis'] = sin_df['Sinópsis'].str.replace('\\n', '')\n",
    "sin_df"
   ]
  },
  {
   "cell_type": "code",
   "execution_count": 15,
   "metadata": {
    "scrolled": true
   },
   "outputs": [
    {
     "data": {
      "text/html": [
       "<div>\n",
       "<style scoped>\n",
       "    .dataframe tbody tr th:only-of-type {\n",
       "        vertical-align: middle;\n",
       "    }\n",
       "\n",
       "    .dataframe tbody tr th {\n",
       "        vertical-align: top;\n",
       "    }\n",
       "\n",
       "    .dataframe thead th {\n",
       "        text-align: right;\n",
       "    }\n",
       "</style>\n",
       "<table border=\"1\" class=\"dataframe\">\n",
       "  <thead>\n",
       "    <tr style=\"text-align: right;\">\n",
       "      <th></th>\n",
       "      <th>Película</th>\n",
       "      <th>Director</th>\n",
       "      <th>País</th>\n",
       "      <th>Año</th>\n",
       "      <th>Duración</th>\n",
       "      <th>Sinópsis</th>\n",
       "    </tr>\n",
       "  </thead>\n",
       "  <tbody>\n",
       "  </tbody>\n",
       "</table>\n",
       "</div>"
      ],
      "text/plain": [
       "Empty DataFrame\n",
       "Columns: [Película, Director, País, Año, Duración, Sinópsis]\n",
       "Index: []"
      ]
     },
     "execution_count": 15,
     "metadata": {},
     "output_type": "execute_result"
    }
   ],
   "source": [
    "#Hacemos la concatenación de todos los dataframes para tenerlos todos juntos \n",
    "#Al imprimir nos damos cuenta que la sinópsis no está en todas las películas. \n",
    "dfs = pd.concat([df_pelis, mini_df, sin_df], axis = 1)\n",
    "dfs "
   ]
  },
  {
   "cell_type": "code",
   "execution_count": 16,
   "metadata": {},
   "outputs": [
    {
     "data": {
      "text/html": [
       "<div>\n",
       "<style scoped>\n",
       "    .dataframe tbody tr th:only-of-type {\n",
       "        vertical-align: middle;\n",
       "    }\n",
       "\n",
       "    .dataframe tbody tr th {\n",
       "        vertical-align: top;\n",
       "    }\n",
       "\n",
       "    .dataframe thead th {\n",
       "        text-align: right;\n",
       "    }\n",
       "</style>\n",
       "<table border=\"1\" class=\"dataframe\">\n",
       "  <thead>\n",
       "    <tr style=\"text-align: right;\">\n",
       "      <th></th>\n",
       "      <th>Película</th>\n",
       "      <th>Director</th>\n",
       "      <th>País</th>\n",
       "      <th>Año</th>\n",
       "      <th>Duración</th>\n",
       "    </tr>\n",
       "  </thead>\n",
       "  <tbody>\n",
       "  </tbody>\n",
       "</table>\n",
       "</div>"
      ],
      "text/plain": [
       "Empty DataFrame\n",
       "Columns: [Película, Director, País, Año, Duración]\n",
       "Index: []"
      ]
     },
     "execution_count": 16,
     "metadata": {},
     "output_type": "execute_result"
    }
   ],
   "source": [
    "#Hacemos sólo el dataframe con información de cada película porque algunas películas no tienen sinópsis\n",
    "dfs2 = pd.concat([df_pelis, mini_df], axis = 1)\n",
    "dfs2"
   ]
  },
  {
   "cell_type": "code",
   "execution_count": 17,
   "metadata": {},
   "outputs": [],
   "source": [
    "#Lo exportamos a un csv para ver si se pudo extrar la información y la muestra limpia \n",
    "dfs2.to_csv('cartelera.csv', index=False)"
   ]
  },
  {
   "cell_type": "code",
   "execution_count": null,
   "metadata": {},
   "outputs": [],
   "source": []
  },
  {
   "cell_type": "code",
   "execution_count": null,
   "metadata": {},
   "outputs": [],
   "source": []
  }
 ],
 "metadata": {
  "kernelspec": {
   "display_name": "Python 3",
   "language": "python",
   "name": "python3"
  },
  "language_info": {
   "codemirror_mode": {
    "name": "ipython",
    "version": 3
   },
   "file_extension": ".py",
   "mimetype": "text/x-python",
   "name": "python",
   "nbconvert_exporter": "python",
   "pygments_lexer": "ipython3",
   "version": "3.7.4"
  }
 },
 "nbformat": 4,
 "nbformat_minor": 2
}
